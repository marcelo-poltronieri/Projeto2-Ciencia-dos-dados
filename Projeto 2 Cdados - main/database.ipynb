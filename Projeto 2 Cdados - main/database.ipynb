{
 "cells": [
  {
   "attachments": {},
   "cell_type": "markdown",
   "metadata": {},
   "source": [
    "<div id=\"dataset\"></div>\n",
    "\n",
    "# A. Introdução"
   ]
  },
  {
   "attachments": {},
   "cell_type": "markdown",
   "metadata": {},
   "source": [
    "Explicação breve sobre o projeto:\n",
    "\n",
    "O projeto visa descobrir o grau de segurança de uma área, partindo de uma determinada densidade demográfica, um PIB per capita, o tamanho de uma determinada região e um IDH municipal. Para fazer isso, será necessário primeiro capturar uma base de dados que conceda a capacidade de se quantificar esta segurança e, em seguida, construir um data frame que contemple todas as variáveis independentes citadas e a variável target definida."
   ]
  },
  {
   "attachments": {},
   "cell_type": "markdown",
   "metadata": {},
   "source": [
    "Após a análise exploratória dos dados, serão construídos dois modelos de predição baseados em duas técnicas distintas de predição: regressão múltipla e random forest tree. Assim que os modelos forem construídos, deve-se avaliar as performances de ambos. Para tanto, a base de dados será dividida em duas partes: treinamento e teste. Em seguida, serão estudadas as performances dos dois modelos por meio do r2 score, uma medida obtida tanto pelo statsmodels.OLS quanto pelo sklearn.tree. Por fim, será possível concluir se os modelos construídos são bons ou não e se têm base de dados em overfitting ou underfitting."
   ]
  },
  {
   "cell_type": "code",
   "execution_count": 489,
   "metadata": {},
   "outputs": [],
   "source": [
    "#Importa as bibliotecas necessárias\n",
    "import pandas as pd\n",
    "import numpy as np\n",
    "from scipy.stats import norm, probplot\n",
    "import statsmodels.api as sm\n",
    "import matplotlib.pyplot as plt\n",
    "\n",
    "from mpl_toolkits.mplot3d import Axes3D\n",
    "\n",
    "# Para ter melhor print\n",
    "from IPython.display import display\n",
    "\n",
    "# Bibliotecas para o modelo random forest\n",
    "from sklearn.model_selection import cross_val_score\n",
    "from sklearn.tree import DecisionTreeRegressor\n",
    "from sklearn import tree\n",
    "from sklearn.model_selection import train_test_split\n",
    "from sklearn.linear_model import LinearRegression"
   ]
  },
  {
   "attachments": {},
   "cell_type": "markdown",
   "metadata": {},
   "source": [
    "A seguir, tem-se uma descrição da base de dados de determinada região extraída do site da Secretária de Segurança Pública de São Paulo:"
   ]
  },
  {
   "cell_type": "code",
   "execution_count": 490,
   "metadata": {},
   "outputs": [
    {
     "data": {
      "text/plain": [
       "Ocorrencia    object\n",
       "Jan            int64\n",
       "Fev            int64\n",
       "Mar            int64\n",
       "Abr            int64\n",
       "Mai            int64\n",
       "Jun            int64\n",
       "Jul            int64\n",
       "Ago            int64\n",
       "Set            int64\n",
       "Out            int64\n",
       "Nov            int64\n",
       "Dez            int64\n",
       "Total          int64\n",
       "dtype: object"
      ]
     },
     "execution_count": 490,
     "metadata": {},
     "output_type": "execute_result"
    }
   ],
   "source": [
    "# Define variável contendo a base de dados 1 da capital extraída referente à produtividade policial\n",
    "prod_2022_capital = pd.read_excel('Regiões/Capital/Produtividade Policial/ProdutividadePolicial-Região Capital.xlsx')\n",
    "# Descreve os tipos de dados em cada coluna do df importado\n",
    "prod_2022_capital.dtypes"
   ]
  },
  {
   "cell_type": "code",
   "execution_count": 491,
   "metadata": {},
   "outputs": [
    {
     "data": {
      "text/plain": [
       "Ocorrencia    object\n",
       "Jan            int64\n",
       "Fev            int64\n",
       "Mar            int64\n",
       "Abr            int64\n",
       "Mai            int64\n",
       "Jun            int64\n",
       "Jul            int64\n",
       "Ago            int64\n",
       "Set            int64\n",
       "Out            int64\n",
       "Nov            int64\n",
       "Dez            int64\n",
       "Total          int64\n",
       "dtype: object"
      ]
     },
     "execution_count": 491,
     "metadata": {},
     "output_type": "execute_result"
    }
   ],
   "source": [
    "# Define variável contendo a base de dados 2 da capital extraída referente ao total de crimes relatados\n",
    "crime_2022_capital = pd.read_excel('Regiões/Capital/Mensal-Região Capital.xlsx')\n",
    "# Descreve os tipos de dados em cada coluna do df importado\n",
    "crime_2022_capital.dtypes"
   ]
  },
  {
   "attachments": {},
   "cell_type": "markdown",
   "metadata": {},
   "source": [
    "# B. Minerando Dados e Características do Dataset"
   ]
  },
  {
   "attachments": {},
   "cell_type": "markdown",
   "metadata": {},
   "source": [
    "Para cada região de São Paulo, precisamos primeiro pegar os dados da produtividade policial e número de crimes registrados. Antes disso, vamos visualizar os dataframes importados apenas referentes à capital. "
   ]
  },
  {
   "cell_type": "code",
   "execution_count": 492,
   "metadata": {},
   "outputs": [
    {
     "data": {
      "text/html": [
       "<div>\n",
       "<style scoped>\n",
       "    .dataframe tbody tr th:only-of-type {\n",
       "        vertical-align: middle;\n",
       "    }\n",
       "\n",
       "    .dataframe tbody tr th {\n",
       "        vertical-align: top;\n",
       "    }\n",
       "\n",
       "    .dataframe thead th {\n",
       "        text-align: right;\n",
       "    }\n",
       "</style>\n",
       "<table border=\"1\" class=\"dataframe\">\n",
       "  <thead>\n",
       "    <tr style=\"text-align: right;\">\n",
       "      <th></th>\n",
       "      <th>Ocorrencia</th>\n",
       "      <th>Jan</th>\n",
       "      <th>Fev</th>\n",
       "      <th>Mar</th>\n",
       "      <th>Abr</th>\n",
       "      <th>Mai</th>\n",
       "      <th>Jun</th>\n",
       "      <th>Jul</th>\n",
       "      <th>Ago</th>\n",
       "      <th>Set</th>\n",
       "      <th>Out</th>\n",
       "      <th>Nov</th>\n",
       "      <th>Dez</th>\n",
       "      <th>Total</th>\n",
       "    </tr>\n",
       "  </thead>\n",
       "  <tbody>\n",
       "    <tr>\n",
       "      <th>0</th>\n",
       "      <td>OCORRÊNCIAS DE PORTE DE ENTORPECENTES</td>\n",
       "      <td>84</td>\n",
       "      <td>134</td>\n",
       "      <td>147</td>\n",
       "      <td>106</td>\n",
       "      <td>128</td>\n",
       "      <td>120</td>\n",
       "      <td>146</td>\n",
       "      <td>135</td>\n",
       "      <td>128</td>\n",
       "      <td>180</td>\n",
       "      <td>170</td>\n",
       "      <td>121</td>\n",
       "      <td>1599</td>\n",
       "    </tr>\n",
       "    <tr>\n",
       "      <th>1</th>\n",
       "      <td>OCORRÊNCIAS DE TRÁFICO DE ENTORPECENTES</td>\n",
       "      <td>309</td>\n",
       "      <td>281</td>\n",
       "      <td>341</td>\n",
       "      <td>346</td>\n",
       "      <td>407</td>\n",
       "      <td>336</td>\n",
       "      <td>364</td>\n",
       "      <td>337</td>\n",
       "      <td>327</td>\n",
       "      <td>288</td>\n",
       "      <td>281</td>\n",
       "      <td>222</td>\n",
       "      <td>3839</td>\n",
       "    </tr>\n",
       "    <tr>\n",
       "      <th>2</th>\n",
       "      <td>OCORRÊNCIAS DE APREENSÃO DE ENTORPECENTES(1)</td>\n",
       "      <td>34</td>\n",
       "      <td>39</td>\n",
       "      <td>47</td>\n",
       "      <td>15</td>\n",
       "      <td>45</td>\n",
       "      <td>56</td>\n",
       "      <td>99</td>\n",
       "      <td>98</td>\n",
       "      <td>90</td>\n",
       "      <td>122</td>\n",
       "      <td>75</td>\n",
       "      <td>92</td>\n",
       "      <td>812</td>\n",
       "    </tr>\n",
       "    <tr>\n",
       "      <th>3</th>\n",
       "      <td>OCORRÊNCIAS DE PORTE ILEGAL DE ARMA</td>\n",
       "      <td>66</td>\n",
       "      <td>54</td>\n",
       "      <td>80</td>\n",
       "      <td>65</td>\n",
       "      <td>67</td>\n",
       "      <td>68</td>\n",
       "      <td>75</td>\n",
       "      <td>93</td>\n",
       "      <td>56</td>\n",
       "      <td>82</td>\n",
       "      <td>57</td>\n",
       "      <td>39</td>\n",
       "      <td>802</td>\n",
       "    </tr>\n",
       "    <tr>\n",
       "      <th>4</th>\n",
       "      <td>Nº DE ARMAS DE FOGO APREENDIDAS</td>\n",
       "      <td>138</td>\n",
       "      <td>180</td>\n",
       "      <td>206</td>\n",
       "      <td>156</td>\n",
       "      <td>175</td>\n",
       "      <td>193</td>\n",
       "      <td>175</td>\n",
       "      <td>142</td>\n",
       "      <td>190</td>\n",
       "      <td>155</td>\n",
       "      <td>232</td>\n",
       "      <td>236</td>\n",
       "      <td>2178</td>\n",
       "    </tr>\n",
       "    <tr>\n",
       "      <th>5</th>\n",
       "      <td>Nº DE FLAGRANTES LAVRADOS</td>\n",
       "      <td>1549</td>\n",
       "      <td>1794</td>\n",
       "      <td>1909</td>\n",
       "      <td>1809</td>\n",
       "      <td>1871</td>\n",
       "      <td>1769</td>\n",
       "      <td>1838</td>\n",
       "      <td>1911</td>\n",
       "      <td>1828</td>\n",
       "      <td>1846</td>\n",
       "      <td>1705</td>\n",
       "      <td>1590</td>\n",
       "      <td>21419</td>\n",
       "    </tr>\n",
       "    <tr>\n",
       "      <th>6</th>\n",
       "      <td>Nº DE INFRATORES APREENDIDOS EM FLAGRANTE</td>\n",
       "      <td>166</td>\n",
       "      <td>149</td>\n",
       "      <td>222</td>\n",
       "      <td>211</td>\n",
       "      <td>247</td>\n",
       "      <td>265</td>\n",
       "      <td>212</td>\n",
       "      <td>194</td>\n",
       "      <td>232</td>\n",
       "      <td>252</td>\n",
       "      <td>171</td>\n",
       "      <td>183</td>\n",
       "      <td>2504</td>\n",
       "    </tr>\n",
       "    <tr>\n",
       "      <th>7</th>\n",
       "      <td>Nº DE INFRATORES APREENDIDOS POR MANDADO</td>\n",
       "      <td>3</td>\n",
       "      <td>2</td>\n",
       "      <td>3</td>\n",
       "      <td>4</td>\n",
       "      <td>7</td>\n",
       "      <td>6</td>\n",
       "      <td>1</td>\n",
       "      <td>5</td>\n",
       "      <td>28</td>\n",
       "      <td>2</td>\n",
       "      <td>8</td>\n",
       "      <td>19</td>\n",
       "      <td>88</td>\n",
       "    </tr>\n",
       "    <tr>\n",
       "      <th>8</th>\n",
       "      <td>Nº DE PESSOAS PRESAS EM FLAGRANTE</td>\n",
       "      <td>1916</td>\n",
       "      <td>2103</td>\n",
       "      <td>2306</td>\n",
       "      <td>2133</td>\n",
       "      <td>2211</td>\n",
       "      <td>2153</td>\n",
       "      <td>2225</td>\n",
       "      <td>2368</td>\n",
       "      <td>2472</td>\n",
       "      <td>2112</td>\n",
       "      <td>2061</td>\n",
       "      <td>1955</td>\n",
       "      <td>26015</td>\n",
       "    </tr>\n",
       "    <tr>\n",
       "      <th>9</th>\n",
       "      <td>Nº DE PESSOAS PRESAS POR MANDADO</td>\n",
       "      <td>582</td>\n",
       "      <td>625</td>\n",
       "      <td>754</td>\n",
       "      <td>748</td>\n",
       "      <td>732</td>\n",
       "      <td>713</td>\n",
       "      <td>760</td>\n",
       "      <td>682</td>\n",
       "      <td>595</td>\n",
       "      <td>693</td>\n",
       "      <td>640</td>\n",
       "      <td>641</td>\n",
       "      <td>8165</td>\n",
       "    </tr>\n",
       "    <tr>\n",
       "      <th>10</th>\n",
       "      <td>Nº DE PRISÕES EFETUADAS</td>\n",
       "      <td>1878</td>\n",
       "      <td>2067</td>\n",
       "      <td>2435</td>\n",
       "      <td>2332</td>\n",
       "      <td>2369</td>\n",
       "      <td>2281</td>\n",
       "      <td>2264</td>\n",
       "      <td>2424</td>\n",
       "      <td>2219</td>\n",
       "      <td>2253</td>\n",
       "      <td>2123</td>\n",
       "      <td>2172</td>\n",
       "      <td>26817</td>\n",
       "    </tr>\n",
       "    <tr>\n",
       "      <th>11</th>\n",
       "      <td>Nº DE VEÍCULOS RECUPERADOS</td>\n",
       "      <td>1059</td>\n",
       "      <td>1067</td>\n",
       "      <td>1343</td>\n",
       "      <td>1222</td>\n",
       "      <td>1190</td>\n",
       "      <td>1218</td>\n",
       "      <td>1156</td>\n",
       "      <td>1245</td>\n",
       "      <td>1152</td>\n",
       "      <td>1320</td>\n",
       "      <td>1244</td>\n",
       "      <td>1314</td>\n",
       "      <td>14530</td>\n",
       "    </tr>\n",
       "    <tr>\n",
       "      <th>12</th>\n",
       "      <td>TOT. DE INQUÉRITOS POLICIAIS INSTAURADOS</td>\n",
       "      <td>6442</td>\n",
       "      <td>7153</td>\n",
       "      <td>7995</td>\n",
       "      <td>6694</td>\n",
       "      <td>7918</td>\n",
       "      <td>7211</td>\n",
       "      <td>7162</td>\n",
       "      <td>8243</td>\n",
       "      <td>7268</td>\n",
       "      <td>7026</td>\n",
       "      <td>7156</td>\n",
       "      <td>7171</td>\n",
       "      <td>87439</td>\n",
       "    </tr>\n",
       "  </tbody>\n",
       "</table>\n",
       "</div>"
      ],
      "text/plain": [
       "                                      Ocorrencia   Jan   Fev   Mar   Abr  \\\n",
       "0          OCORRÊNCIAS DE PORTE DE ENTORPECENTES    84   134   147   106   \n",
       "1        OCORRÊNCIAS DE TRÁFICO DE ENTORPECENTES   309   281   341   346   \n",
       "2   OCORRÊNCIAS DE APREENSÃO DE ENTORPECENTES(1)    34    39    47    15   \n",
       "3            OCORRÊNCIAS DE PORTE ILEGAL DE ARMA    66    54    80    65   \n",
       "4                Nº DE ARMAS DE FOGO APREENDIDAS   138   180   206   156   \n",
       "5                      Nº DE FLAGRANTES LAVRADOS  1549  1794  1909  1809   \n",
       "6      Nº DE INFRATORES APREENDIDOS EM FLAGRANTE   166   149   222   211   \n",
       "7       Nº DE INFRATORES APREENDIDOS POR MANDADO     3     2     3     4   \n",
       "8              Nº DE PESSOAS PRESAS EM FLAGRANTE  1916  2103  2306  2133   \n",
       "9               Nº DE PESSOAS PRESAS POR MANDADO   582   625   754   748   \n",
       "10                       Nº DE PRISÕES EFETUADAS  1878  2067  2435  2332   \n",
       "11                    Nº DE VEÍCULOS RECUPERADOS  1059  1067  1343  1222   \n",
       "12      TOT. DE INQUÉRITOS POLICIAIS INSTAURADOS  6442  7153  7995  6694   \n",
       "\n",
       "     Mai   Jun   Jul   Ago   Set   Out   Nov   Dez  Total  \n",
       "0    128   120   146   135   128   180   170   121   1599  \n",
       "1    407   336   364   337   327   288   281   222   3839  \n",
       "2     45    56    99    98    90   122    75    92    812  \n",
       "3     67    68    75    93    56    82    57    39    802  \n",
       "4    175   193   175   142   190   155   232   236   2178  \n",
       "5   1871  1769  1838  1911  1828  1846  1705  1590  21419  \n",
       "6    247   265   212   194   232   252   171   183   2504  \n",
       "7      7     6     1     5    28     2     8    19     88  \n",
       "8   2211  2153  2225  2368  2472  2112  2061  1955  26015  \n",
       "9    732   713   760   682   595   693   640   641   8165  \n",
       "10  2369  2281  2264  2424  2219  2253  2123  2172  26817  \n",
       "11  1190  1218  1156  1245  1152  1320  1244  1314  14530  \n",
       "12  7918  7211  7162  8243  7268  7026  7156  7171  87439  "
      ]
     },
     "metadata": {},
     "output_type": "display_data"
    }
   ],
   "source": [
    "# Visualiza produtiviade policial da capital\n",
    "display(prod_2022_capital)"
   ]
  },
  {
   "cell_type": "code",
   "execution_count": 493,
   "metadata": {},
   "outputs": [
    {
     "data": {
      "text/html": [
       "<div>\n",
       "<style scoped>\n",
       "    .dataframe tbody tr th:only-of-type {\n",
       "        vertical-align: middle;\n",
       "    }\n",
       "\n",
       "    .dataframe tbody tr th {\n",
       "        vertical-align: top;\n",
       "    }\n",
       "\n",
       "    .dataframe thead th {\n",
       "        text-align: right;\n",
       "    }\n",
       "</style>\n",
       "<table border=\"1\" class=\"dataframe\">\n",
       "  <thead>\n",
       "    <tr style=\"text-align: right;\">\n",
       "      <th></th>\n",
       "      <th>Ocorrencia</th>\n",
       "      <th>Jan</th>\n",
       "      <th>Fev</th>\n",
       "      <th>Mar</th>\n",
       "      <th>Abr</th>\n",
       "      <th>Mai</th>\n",
       "      <th>Jun</th>\n",
       "      <th>Jul</th>\n",
       "      <th>Ago</th>\n",
       "      <th>Set</th>\n",
       "      <th>Out</th>\n",
       "      <th>Nov</th>\n",
       "      <th>Dez</th>\n",
       "      <th>Total</th>\n",
       "    </tr>\n",
       "  </thead>\n",
       "  <tbody>\n",
       "    <tr>\n",
       "      <th>0</th>\n",
       "      <td>HOMICÍDIO DOLOSO (2)</td>\n",
       "      <td>55</td>\n",
       "      <td>35</td>\n",
       "      <td>45</td>\n",
       "      <td>45</td>\n",
       "      <td>39</td>\n",
       "      <td>28</td>\n",
       "      <td>42</td>\n",
       "      <td>46</td>\n",
       "      <td>52</td>\n",
       "      <td>57</td>\n",
       "      <td>53</td>\n",
       "      <td>63</td>\n",
       "      <td>560</td>\n",
       "    </tr>\n",
       "    <tr>\n",
       "      <th>1</th>\n",
       "      <td>Nº DE VÍTIMAS EM HOMICÍDIO DOLOSO (3)</td>\n",
       "      <td>56</td>\n",
       "      <td>40</td>\n",
       "      <td>46</td>\n",
       "      <td>47</td>\n",
       "      <td>43</td>\n",
       "      <td>28</td>\n",
       "      <td>42</td>\n",
       "      <td>49</td>\n",
       "      <td>56</td>\n",
       "      <td>59</td>\n",
       "      <td>54</td>\n",
       "      <td>63</td>\n",
       "      <td>583</td>\n",
       "    </tr>\n",
       "    <tr>\n",
       "      <th>2</th>\n",
       "      <td>HOMICÍDIO DOLOSO POR ACIDENTE DE TRÂNSITO</td>\n",
       "      <td>0</td>\n",
       "      <td>0</td>\n",
       "      <td>0</td>\n",
       "      <td>0</td>\n",
       "      <td>0</td>\n",
       "      <td>1</td>\n",
       "      <td>0</td>\n",
       "      <td>0</td>\n",
       "      <td>1</td>\n",
       "      <td>1</td>\n",
       "      <td>0</td>\n",
       "      <td>0</td>\n",
       "      <td>3</td>\n",
       "    </tr>\n",
       "    <tr>\n",
       "      <th>3</th>\n",
       "      <td>Nº DE VÍTIMAS EM HOMICÍDIO DOLOSO POR ACIDENTE...</td>\n",
       "      <td>0</td>\n",
       "      <td>0</td>\n",
       "      <td>0</td>\n",
       "      <td>0</td>\n",
       "      <td>0</td>\n",
       "      <td>1</td>\n",
       "      <td>0</td>\n",
       "      <td>0</td>\n",
       "      <td>1</td>\n",
       "      <td>1</td>\n",
       "      <td>0</td>\n",
       "      <td>0</td>\n",
       "      <td>3</td>\n",
       "    </tr>\n",
       "    <tr>\n",
       "      <th>4</th>\n",
       "      <td>HOMICÍDIO CULPOSO POR ACIDENTE DE TRÂNSITO</td>\n",
       "      <td>27</td>\n",
       "      <td>21</td>\n",
       "      <td>41</td>\n",
       "      <td>40</td>\n",
       "      <td>33</td>\n",
       "      <td>34</td>\n",
       "      <td>46</td>\n",
       "      <td>42</td>\n",
       "      <td>40</td>\n",
       "      <td>50</td>\n",
       "      <td>33</td>\n",
       "      <td>32</td>\n",
       "      <td>439</td>\n",
       "    </tr>\n",
       "    <tr>\n",
       "      <th>5</th>\n",
       "      <td>HOMICÍDIO CULPOSO OUTROS</td>\n",
       "      <td>1</td>\n",
       "      <td>4</td>\n",
       "      <td>1</td>\n",
       "      <td>3</td>\n",
       "      <td>0</td>\n",
       "      <td>0</td>\n",
       "      <td>4</td>\n",
       "      <td>0</td>\n",
       "      <td>1</td>\n",
       "      <td>5</td>\n",
       "      <td>3</td>\n",
       "      <td>3</td>\n",
       "      <td>25</td>\n",
       "    </tr>\n",
       "    <tr>\n",
       "      <th>6</th>\n",
       "      <td>TENTATIVA DE HOMICÍDIO</td>\n",
       "      <td>40</td>\n",
       "      <td>43</td>\n",
       "      <td>53</td>\n",
       "      <td>40</td>\n",
       "      <td>48</td>\n",
       "      <td>46</td>\n",
       "      <td>59</td>\n",
       "      <td>54</td>\n",
       "      <td>35</td>\n",
       "      <td>62</td>\n",
       "      <td>53</td>\n",
       "      <td>66</td>\n",
       "      <td>599</td>\n",
       "    </tr>\n",
       "    <tr>\n",
       "      <th>7</th>\n",
       "      <td>LESÃO CORPORAL SEGUIDA DE MORTE</td>\n",
       "      <td>2</td>\n",
       "      <td>2</td>\n",
       "      <td>2</td>\n",
       "      <td>2</td>\n",
       "      <td>2</td>\n",
       "      <td>3</td>\n",
       "      <td>4</td>\n",
       "      <td>0</td>\n",
       "      <td>2</td>\n",
       "      <td>5</td>\n",
       "      <td>1</td>\n",
       "      <td>2</td>\n",
       "      <td>27</td>\n",
       "    </tr>\n",
       "    <tr>\n",
       "      <th>8</th>\n",
       "      <td>LESÃO CORPORAL DOLOSA</td>\n",
       "      <td>2319</td>\n",
       "      <td>2066</td>\n",
       "      <td>2799</td>\n",
       "      <td>2278</td>\n",
       "      <td>2442</td>\n",
       "      <td>2273</td>\n",
       "      <td>2742</td>\n",
       "      <td>2317</td>\n",
       "      <td>2290</td>\n",
       "      <td>3156</td>\n",
       "      <td>2466</td>\n",
       "      <td>2559</td>\n",
       "      <td>29707</td>\n",
       "    </tr>\n",
       "    <tr>\n",
       "      <th>9</th>\n",
       "      <td>LESÃO CORPORAL CULPOSA POR ACIDENTE DE TRÂNSITO</td>\n",
       "      <td>670</td>\n",
       "      <td>610</td>\n",
       "      <td>829</td>\n",
       "      <td>717</td>\n",
       "      <td>934</td>\n",
       "      <td>909</td>\n",
       "      <td>876</td>\n",
       "      <td>908</td>\n",
       "      <td>931</td>\n",
       "      <td>1082</td>\n",
       "      <td>826</td>\n",
       "      <td>867</td>\n",
       "      <td>10159</td>\n",
       "    </tr>\n",
       "    <tr>\n",
       "      <th>10</th>\n",
       "      <td>LESÃO CORPORAL CULPOSA - OUTRAS</td>\n",
       "      <td>42</td>\n",
       "      <td>76</td>\n",
       "      <td>106</td>\n",
       "      <td>62</td>\n",
       "      <td>79</td>\n",
       "      <td>57</td>\n",
       "      <td>61</td>\n",
       "      <td>62</td>\n",
       "      <td>43</td>\n",
       "      <td>78</td>\n",
       "      <td>40</td>\n",
       "      <td>45</td>\n",
       "      <td>751</td>\n",
       "    </tr>\n",
       "    <tr>\n",
       "      <th>11</th>\n",
       "      <td>LATROCÍNIO</td>\n",
       "      <td>3</td>\n",
       "      <td>9</td>\n",
       "      <td>5</td>\n",
       "      <td>4</td>\n",
       "      <td>6</td>\n",
       "      <td>3</td>\n",
       "      <td>5</td>\n",
       "      <td>0</td>\n",
       "      <td>11</td>\n",
       "      <td>4</td>\n",
       "      <td>6</td>\n",
       "      <td>7</td>\n",
       "      <td>63</td>\n",
       "    </tr>\n",
       "    <tr>\n",
       "      <th>12</th>\n",
       "      <td>Nº DE VÍTIMAS EM LATROCÍNIO</td>\n",
       "      <td>3</td>\n",
       "      <td>9</td>\n",
       "      <td>5</td>\n",
       "      <td>4</td>\n",
       "      <td>6</td>\n",
       "      <td>3</td>\n",
       "      <td>5</td>\n",
       "      <td>0</td>\n",
       "      <td>11</td>\n",
       "      <td>4</td>\n",
       "      <td>6</td>\n",
       "      <td>7</td>\n",
       "      <td>63</td>\n",
       "    </tr>\n",
       "    <tr>\n",
       "      <th>13</th>\n",
       "      <td>TOTAL DE ESTUPRO (4)</td>\n",
       "      <td>170</td>\n",
       "      <td>168</td>\n",
       "      <td>237</td>\n",
       "      <td>212</td>\n",
       "      <td>208</td>\n",
       "      <td>178</td>\n",
       "      <td>217</td>\n",
       "      <td>229</td>\n",
       "      <td>231</td>\n",
       "      <td>227</td>\n",
       "      <td>191</td>\n",
       "      <td>180</td>\n",
       "      <td>2448</td>\n",
       "    </tr>\n",
       "    <tr>\n",
       "      <th>14</th>\n",
       "      <td>ESTUPRO</td>\n",
       "      <td>50</td>\n",
       "      <td>49</td>\n",
       "      <td>59</td>\n",
       "      <td>56</td>\n",
       "      <td>54</td>\n",
       "      <td>45</td>\n",
       "      <td>67</td>\n",
       "      <td>62</td>\n",
       "      <td>57</td>\n",
       "      <td>51</td>\n",
       "      <td>53</td>\n",
       "      <td>42</td>\n",
       "      <td>645</td>\n",
       "    </tr>\n",
       "    <tr>\n",
       "      <th>15</th>\n",
       "      <td>ESTUPRO DE VULNERÁVEL</td>\n",
       "      <td>120</td>\n",
       "      <td>119</td>\n",
       "      <td>178</td>\n",
       "      <td>156</td>\n",
       "      <td>154</td>\n",
       "      <td>133</td>\n",
       "      <td>150</td>\n",
       "      <td>167</td>\n",
       "      <td>174</td>\n",
       "      <td>176</td>\n",
       "      <td>138</td>\n",
       "      <td>138</td>\n",
       "      <td>1803</td>\n",
       "    </tr>\n",
       "    <tr>\n",
       "      <th>16</th>\n",
       "      <td>TOTAL DE ROUBO - OUTROS (1)</td>\n",
       "      <td>11846</td>\n",
       "      <td>10617</td>\n",
       "      <td>12191</td>\n",
       "      <td>11007</td>\n",
       "      <td>11587</td>\n",
       "      <td>11659</td>\n",
       "      <td>11688</td>\n",
       "      <td>12517</td>\n",
       "      <td>12130</td>\n",
       "      <td>12979</td>\n",
       "      <td>12541</td>\n",
       "      <td>13174</td>\n",
       "      <td>143936</td>\n",
       "    </tr>\n",
       "    <tr>\n",
       "      <th>17</th>\n",
       "      <td>ROUBO - OUTROS</td>\n",
       "      <td>11563</td>\n",
       "      <td>10383</td>\n",
       "      <td>11937</td>\n",
       "      <td>10744</td>\n",
       "      <td>11289</td>\n",
       "      <td>11417</td>\n",
       "      <td>11419</td>\n",
       "      <td>12305</td>\n",
       "      <td>11902</td>\n",
       "      <td>12722</td>\n",
       "      <td>12280</td>\n",
       "      <td>12903</td>\n",
       "      <td>140864</td>\n",
       "    </tr>\n",
       "    <tr>\n",
       "      <th>18</th>\n",
       "      <td>ROUBO DE VEÍCULO</td>\n",
       "      <td>1093</td>\n",
       "      <td>1069</td>\n",
       "      <td>1385</td>\n",
       "      <td>1199</td>\n",
       "      <td>1327</td>\n",
       "      <td>1180</td>\n",
       "      <td>1391</td>\n",
       "      <td>1199</td>\n",
       "      <td>1282</td>\n",
       "      <td>1557</td>\n",
       "      <td>1657</td>\n",
       "      <td>1681</td>\n",
       "      <td>16020</td>\n",
       "    </tr>\n",
       "    <tr>\n",
       "      <th>19</th>\n",
       "      <td>ROUBO A BANCO</td>\n",
       "      <td>1</td>\n",
       "      <td>0</td>\n",
       "      <td>0</td>\n",
       "      <td>1</td>\n",
       "      <td>1</td>\n",
       "      <td>1</td>\n",
       "      <td>1</td>\n",
       "      <td>2</td>\n",
       "      <td>0</td>\n",
       "      <td>1</td>\n",
       "      <td>0</td>\n",
       "      <td>0</td>\n",
       "      <td>8</td>\n",
       "    </tr>\n",
       "    <tr>\n",
       "      <th>20</th>\n",
       "      <td>ROUBO DE CARGA</td>\n",
       "      <td>282</td>\n",
       "      <td>234</td>\n",
       "      <td>254</td>\n",
       "      <td>262</td>\n",
       "      <td>297</td>\n",
       "      <td>241</td>\n",
       "      <td>268</td>\n",
       "      <td>210</td>\n",
       "      <td>228</td>\n",
       "      <td>256</td>\n",
       "      <td>261</td>\n",
       "      <td>271</td>\n",
       "      <td>3064</td>\n",
       "    </tr>\n",
       "    <tr>\n",
       "      <th>21</th>\n",
       "      <td>FURTO - OUTROS</td>\n",
       "      <td>16231</td>\n",
       "      <td>15972</td>\n",
       "      <td>21005</td>\n",
       "      <td>18434</td>\n",
       "      <td>20565</td>\n",
       "      <td>21272</td>\n",
       "      <td>20344</td>\n",
       "      <td>20662</td>\n",
       "      <td>18858</td>\n",
       "      <td>21143</td>\n",
       "      <td>20869</td>\n",
       "      <td>20790</td>\n",
       "      <td>236145</td>\n",
       "    </tr>\n",
       "    <tr>\n",
       "      <th>22</th>\n",
       "      <td>FURTO DE VEÍCULO</td>\n",
       "      <td>2817</td>\n",
       "      <td>2979</td>\n",
       "      <td>3749</td>\n",
       "      <td>2919</td>\n",
       "      <td>3247</td>\n",
       "      <td>3390</td>\n",
       "      <td>3215</td>\n",
       "      <td>3241</td>\n",
       "      <td>3691</td>\n",
       "      <td>3869</td>\n",
       "      <td>3884</td>\n",
       "      <td>3162</td>\n",
       "      <td>40163</td>\n",
       "    </tr>\n",
       "  </tbody>\n",
       "</table>\n",
       "</div>"
      ],
      "text/plain": [
       "                                           Ocorrencia    Jan    Fev    Mar  \\\n",
       "0                                HOMICÍDIO DOLOSO (2)     55     35     45   \n",
       "1               Nº DE VÍTIMAS EM HOMICÍDIO DOLOSO (3)     56     40     46   \n",
       "2           HOMICÍDIO DOLOSO POR ACIDENTE DE TRÂNSITO      0      0      0   \n",
       "3   Nº DE VÍTIMAS EM HOMICÍDIO DOLOSO POR ACIDENTE...      0      0      0   \n",
       "4          HOMICÍDIO CULPOSO POR ACIDENTE DE TRÂNSITO     27     21     41   \n",
       "5                            HOMICÍDIO CULPOSO OUTROS      1      4      1   \n",
       "6                              TENTATIVA DE HOMICÍDIO     40     43     53   \n",
       "7                     LESÃO CORPORAL SEGUIDA DE MORTE      2      2      2   \n",
       "8                               LESÃO CORPORAL DOLOSA   2319   2066   2799   \n",
       "9     LESÃO CORPORAL CULPOSA POR ACIDENTE DE TRÂNSITO    670    610    829   \n",
       "10                    LESÃO CORPORAL CULPOSA - OUTRAS     42     76    106   \n",
       "11                                         LATROCÍNIO      3      9      5   \n",
       "12                        Nº DE VÍTIMAS EM LATROCÍNIO      3      9      5   \n",
       "13                               TOTAL DE ESTUPRO (4)    170    168    237   \n",
       "14                                            ESTUPRO     50     49     59   \n",
       "15                              ESTUPRO DE VULNERÁVEL    120    119    178   \n",
       "16                        TOTAL DE ROUBO - OUTROS (1)  11846  10617  12191   \n",
       "17                                     ROUBO - OUTROS  11563  10383  11937   \n",
       "18                                   ROUBO DE VEÍCULO   1093   1069   1385   \n",
       "19                                      ROUBO A BANCO      1      0      0   \n",
       "20                                     ROUBO DE CARGA    282    234    254   \n",
       "21                                     FURTO - OUTROS  16231  15972  21005   \n",
       "22                                   FURTO DE VEÍCULO   2817   2979   3749   \n",
       "\n",
       "      Abr    Mai    Jun    Jul    Ago    Set    Out    Nov    Dez   Total  \n",
       "0      45     39     28     42     46     52     57     53     63     560  \n",
       "1      47     43     28     42     49     56     59     54     63     583  \n",
       "2       0      0      1      0      0      1      1      0      0       3  \n",
       "3       0      0      1      0      0      1      1      0      0       3  \n",
       "4      40     33     34     46     42     40     50     33     32     439  \n",
       "5       3      0      0      4      0      1      5      3      3      25  \n",
       "6      40     48     46     59     54     35     62     53     66     599  \n",
       "7       2      2      3      4      0      2      5      1      2      27  \n",
       "8    2278   2442   2273   2742   2317   2290   3156   2466   2559   29707  \n",
       "9     717    934    909    876    908    931   1082    826    867   10159  \n",
       "10     62     79     57     61     62     43     78     40     45     751  \n",
       "11      4      6      3      5      0     11      4      6      7      63  \n",
       "12      4      6      3      5      0     11      4      6      7      63  \n",
       "13    212    208    178    217    229    231    227    191    180    2448  \n",
       "14     56     54     45     67     62     57     51     53     42     645  \n",
       "15    156    154    133    150    167    174    176    138    138    1803  \n",
       "16  11007  11587  11659  11688  12517  12130  12979  12541  13174  143936  \n",
       "17  10744  11289  11417  11419  12305  11902  12722  12280  12903  140864  \n",
       "18   1199   1327   1180   1391   1199   1282   1557   1657   1681   16020  \n",
       "19      1      1      1      1      2      0      1      0      0       8  \n",
       "20    262    297    241    268    210    228    256    261    271    3064  \n",
       "21  18434  20565  21272  20344  20662  18858  21143  20869  20790  236145  \n",
       "22   2919   3247   3390   3215   3241   3691   3869   3884   3162   40163  "
      ]
     },
     "metadata": {},
     "output_type": "display_data"
    }
   ],
   "source": [
    "# Visualiza número de crimes registrados na capital\n",
    "display(crime_2022_capital)"
   ]
  },
  {
   "attachments": {},
   "cell_type": "markdown",
   "metadata": {},
   "source": [
    "Com os dados dos crimes e do total de inquéritos policiais instaurados de cada região do estado de São Paulo, conseguimos\n",
    "estabelecer o grau de produtividade policial, dividindo o total de inquéritos pelo total de crimes relatados."
   ]
  },
  {
   "cell_type": "code",
   "execution_count": 494,
   "metadata": {},
   "outputs": [],
   "source": [
    "def eficiencia(name):\n",
    "    prod = pd.read_excel(f'Regiões/{name}/Produtividade Policial/ProdutividadePolicial-Região {name}.xlsx')\n",
    "    prod_tot = prod.loc[prod['Ocorrencia'] == 'TOT. DE INQUÉRITOS POLICIAIS INSTAURADOS','Total'].sum()\n",
    "    crime = pd.read_excel(f'Regiões/{name}/Mensal-Região {name}.xlsx')\n",
    "    crime_tot = crime.loc[:,'Total'].sum()\n",
    "    return prod_tot/crime_tot"
   ]
  },
  {
   "attachments": {},
   "cell_type": "markdown",
   "metadata": {},
   "source": [
    "A função acima pega o total de inquéritos e o total de crimes de uma região listada e traça a segurança dela."
   ]
  },
  {
   "attachments": {},
   "cell_type": "markdown",
   "metadata": {},
   "source": [
    "Agora, listamos cada uma das regiões:"
   ]
  },
  {
   "cell_type": "code",
   "execution_count": 495,
   "metadata": {},
   "outputs": [],
   "source": [
    "# Lista contendo os nomes de todas as regiões estudadas\n",
    "regioes = ['Araçatuba', 'Bauru', 'Campinas', 'Capital', 'Grande São Paulo', 'Piracicaba', 'Presidente Prudente', 'Ribeirão Preto', 'Santos', \n",
    "           'São José do Rio Preto', 'São José dos Campos', 'Sorocaba']"
   ]
  },
  {
   "attachments": {},
   "cell_type": "markdown",
   "metadata": {},
   "source": [
    "Para verificar se a função retornou o valor desejado, estabelecemos dois dicionários: um para visualizar melhor os dados e outro para extrair diretamente os números e realizar os cálculos mais para frente."
   ]
  },
  {
   "cell_type": "code",
   "execution_count": 496,
   "metadata": {},
   "outputs": [],
   "source": [
    "# Cria dicionário visual\n",
    "dici_segurança_visual = {}\n",
    "# Cria dicionário numérico\n",
    "dici_segurança_num = {}\n",
    "\n",
    "for reg in regioes:\n",
    "    # Usa a função eficiência para encontrar a segurança e transforma os números em porcentagem\n",
    "    ef = eficiencia(reg)*100\n",
    "    # Transforma os números em strings com arredondamento\n",
    "    porc_ef = f'{ef:.2f} %'\n",
    "    if reg not in dici_segurança_visual.keys():\n",
    "        # Insere os números nos dicionários criados\n",
    "        dici_segurança_visual[reg] = porc_ef\n",
    "        dici_segurança_num[reg] = ef"
   ]
  },
  {
   "cell_type": "code",
   "execution_count": 497,
   "metadata": {},
   "outputs": [
    {
     "data": {
      "text/plain": [
       "{'Araçatuba': 64.98487676169637,\n",
       " 'Bauru': 49.0187891440501,\n",
       " 'Campinas': 31.835766878821914,\n",
       " 'Capital': 13.921678517636343,\n",
       " 'Grande São Paulo': 22.25616151505003,\n",
       " 'Piracicaba': 39.204906860517944,\n",
       " 'Presidente Prudente': 80.13941077166041,\n",
       " 'Ribeirão Preto': 39.60796792464838,\n",
       " 'Santos': 24.33929332215549,\n",
       " 'São José do Rio Preto': 54.5333564774634,\n",
       " 'São José dos Campos': 44.50938237074454,\n",
       " 'Sorocaba': 46.371972031068395}"
      ]
     },
     "execution_count": 497,
     "metadata": {},
     "output_type": "execute_result"
    }
   ],
   "source": [
    "# Dicionário com valores inteiros\n",
    "dici_segurança_num"
   ]
  },
  {
   "cell_type": "code",
   "execution_count": 498,
   "metadata": {},
   "outputs": [
    {
     "data": {
      "text/plain": [
       "{'Araçatuba': '64.98 %',\n",
       " 'Bauru': '49.02 %',\n",
       " 'Campinas': '31.84 %',\n",
       " 'Capital': '13.92 %',\n",
       " 'Grande São Paulo': '22.26 %',\n",
       " 'Piracicaba': '39.20 %',\n",
       " 'Presidente Prudente': '80.14 %',\n",
       " 'Ribeirão Preto': '39.61 %',\n",
       " 'Santos': '24.34 %',\n",
       " 'São José do Rio Preto': '54.53 %',\n",
       " 'São José dos Campos': '44.51 %',\n",
       " 'Sorocaba': '46.37 %'}"
      ]
     },
     "execution_count": 498,
     "metadata": {},
     "output_type": "execute_result"
    }
   ],
   "source": [
    "# Dicionário com valores str + '%' e arredondamento de duas casas decimais\n",
    "dici_segurança_visual"
   ]
  },
  {
   "attachments": {},
   "cell_type": "markdown",
   "metadata": {},
   "source": [
    "Agora que conferimos que a função funciona como desejado, extraímos diretamente dos dicionários construídos o percentual de segurança de cada região por meio de um laço for e colocamos as informações dentro de duas listas diferentes."
   ]
  },
  {
   "cell_type": "code",
   "execution_count": 499,
   "metadata": {},
   "outputs": [
    {
     "data": {
      "text/plain": [
       "['64.98 %',\n",
       " '49.02 %',\n",
       " '31.84 %',\n",
       " '13.92 %',\n",
       " '22.26 %',\n",
       " '39.20 %',\n",
       " '80.14 %',\n",
       " '39.61 %',\n",
       " '24.34 %',\n",
       " '54.53 %',\n",
       " '44.51 %',\n",
       " '46.37 %']"
      ]
     },
     "execution_count": 499,
     "metadata": {},
     "output_type": "execute_result"
    }
   ],
   "source": [
    "# Lista contendo as strings com porcentagens de segurança de todas as regiões\n",
    "niveis_de_segurança_str = []\n",
    "for p in dici_segurança_visual.values():\n",
    "    niveis_de_segurança_str.append(p)\n",
    "niveis_de_segurança_str"
   ]
  },
  {
   "cell_type": "code",
   "execution_count": 500,
   "metadata": {},
   "outputs": [
    {
     "data": {
      "text/plain": [
       "[64.98487676169637,\n",
       " 49.0187891440501,\n",
       " 31.835766878821914,\n",
       " 13.921678517636343,\n",
       " 22.25616151505003,\n",
       " 39.204906860517944,\n",
       " 80.13941077166041,\n",
       " 39.60796792464838,\n",
       " 24.33929332215549,\n",
       " 54.5333564774634,\n",
       " 44.50938237074454,\n",
       " 46.371972031068395]"
      ]
     },
     "execution_count": 500,
     "metadata": {},
     "output_type": "execute_result"
    }
   ],
   "source": [
    "# Lista contendo os números com porcentagens de segurança de todas as regiões\n",
    "niveis_de_segurança_float = []\n",
    "for p in dici_segurança_num.values():\n",
    "    niveis_de_segurança_float.append(p)\n",
    "niveis_de_segurança_float"
   ]
  },
  {
   "attachments": {},
   "cell_type": "markdown",
   "metadata": {},
   "source": [
    "Agora, iremos começar a montar nossos dataframes com as listas criadas contendo as informações de cada região."
   ]
  },
  {
   "cell_type": "code",
   "execution_count": 501,
   "metadata": {},
   "outputs": [],
   "source": [
    "# Dicionário com colunas contendo as regiões e suas respectivas porcentagens de segurança em forma de string\n",
    "dados = {'Regiões': regioes,\n",
    "         'Segurança (%)': niveis_de_segurança_str}\n",
    "\n",
    "# Df com os dados do dicionário criado\n",
    "df = pd.DataFrame(dados)"
   ]
  },
  {
   "cell_type": "code",
   "execution_count": 502,
   "metadata": {},
   "outputs": [],
   "source": [
    "# Dicionário com colunas contendo as regiões e suas respectivas porcentagens de segurança em forma de float\n",
    "dados2 = {'Regiões': regioes,\n",
    "         'Segurança (%)': niveis_de_segurança_float}\n",
    "\n",
    "# Df com os dados do dicionário criado\n",
    "df2 = pd.DataFrame(dados2)"
   ]
  },
  {
   "attachments": {},
   "cell_type": "markdown",
   "metadata": {},
   "source": [
    "Como já temos em nosso df a nossa variável target, pesquisamos agora as nossas variáveis explicativas que servirão para prever a segurança nos nossos modelos: o PIB per capita, a densidade demográfica, a área territorial e o IDH. Todas as informações foram extraídas da internet e, individualmente, inseridas em quatro listas, uma para cada variável independente. Após criada, cada lista foi inserida no df que acabamos de criar como uma nova coluna. "
   ]
  },
  {
   "cell_type": "code",
   "execution_count": 503,
   "metadata": {},
   "outputs": [],
   "source": [
    "# Lista contendo os PIBs per capita (em ordem por região) - FONTE: IBGE 2020\n",
    "PIB_per_capita = [41913.02, 40021.97, 51317, 52992, 39410.54, 66722.37, 36926.23, 49476.86, 50901.03, 40204.08, 53646.74, 53427.50]"
   ]
  },
  {
   "cell_type": "code",
   "execution_count": 504,
   "metadata": {},
   "outputs": [],
   "source": [
    "# Lista contendo as densidades demográficas em ordem por região- FONTE: IBGE 2020\n",
    "Densidade_demografica = [170.6,571.6,1539.5,8149,1502.12,297.7,413.7,1106.3,1544.2,1086.1,670.6,1546.6]"
   ]
  },
  {
   "cell_type": "code",
   "execution_count": 505,
   "metadata": {},
   "outputs": [],
   "source": [
    "# Adiciona coluna de PIB no df\n",
    "df['PIB per capita'] = PIB_per_capita\n",
    "df2['PIB per capita'] = PIB_per_capita"
   ]
  },
  {
   "cell_type": "code",
   "execution_count": 506,
   "metadata": {},
   "outputs": [],
   "source": [
    "# Adiciona coluna de densidade no df\n",
    "df['Densidade demográfica (hab/km²)'] = Densidade_demografica\n",
    "df2['Densidade demográfica (hab/km²)'] = Densidade_demografica"
   ]
  },
  {
   "cell_type": "code",
   "execution_count": 507,
   "metadata": {},
   "outputs": [],
   "source": [
    "# Lista contendo os tamanhos (em km2) em ordem por região - FONTE: IBGE 2020\n",
    "tamanhos = [ 1167.23, 667.684, 794.571, 1521.202, 6425.64, 1378.069, 560.637, 650.916, 281.033, 431.944, 1099.409, 449.872]\n",
    "# Adiciona coluna de área no df\n",
    "df['Áreas (km²)'] = tamanhos\n",
    "df2['Áreas (km²)'] = tamanhos"
   ]
  },
  {
   "cell_type": "code",
   "execution_count": 508,
   "metadata": {},
   "outputs": [],
   "source": [
    "# Lista contendo IDHs \n",
    "IDHs = [0.788, 0.801, 0.805, 0.805, 0.788, 0.785, 0.806, 0.800, 0.840, 0.797, 0.807, 0.798]\n",
    "# Adiciona coluna de IDHs no df\n",
    "df['IDH'] = IDHs\n",
    "df2['IDH'] = IDHs"
   ]
  },
  {
   "attachments": {},
   "cell_type": "markdown",
   "metadata": {},
   "source": [
    "Para verificar se nossos dados foram devidamente inseridos, visualizamos os dois dataframes atualizados e usamos o comando .describe() no df2 para identificar medidas-resumo de cada variável (máximos, mínimos, desvio-padrão, média, etc):"
   ]
  },
  {
   "cell_type": "code",
   "execution_count": 509,
   "metadata": {},
   "outputs": [
    {
     "name": "stdout",
     "output_type": "stream",
     "text": [
      "Data Frame com segurança arredondada na forma string\n"
     ]
    },
    {
     "data": {
      "text/html": [
       "<div>\n",
       "<style scoped>\n",
       "    .dataframe tbody tr th:only-of-type {\n",
       "        vertical-align: middle;\n",
       "    }\n",
       "\n",
       "    .dataframe tbody tr th {\n",
       "        vertical-align: top;\n",
       "    }\n",
       "\n",
       "    .dataframe thead th {\n",
       "        text-align: right;\n",
       "    }\n",
       "</style>\n",
       "<table border=\"1\" class=\"dataframe\">\n",
       "  <thead>\n",
       "    <tr style=\"text-align: right;\">\n",
       "      <th></th>\n",
       "      <th>Regiões</th>\n",
       "      <th>Segurança (%)</th>\n",
       "      <th>PIB per capita</th>\n",
       "      <th>Densidade demográfica (hab/km²)</th>\n",
       "      <th>Áreas (km²)</th>\n",
       "      <th>IDH</th>\n",
       "    </tr>\n",
       "  </thead>\n",
       "  <tbody>\n",
       "    <tr>\n",
       "      <th>0</th>\n",
       "      <td>Araçatuba</td>\n",
       "      <td>64.98 %</td>\n",
       "      <td>41913.02</td>\n",
       "      <td>170.60</td>\n",
       "      <td>1167.230</td>\n",
       "      <td>0.788</td>\n",
       "    </tr>\n",
       "    <tr>\n",
       "      <th>1</th>\n",
       "      <td>Bauru</td>\n",
       "      <td>49.02 %</td>\n",
       "      <td>40021.97</td>\n",
       "      <td>571.60</td>\n",
       "      <td>667.684</td>\n",
       "      <td>0.801</td>\n",
       "    </tr>\n",
       "    <tr>\n",
       "      <th>2</th>\n",
       "      <td>Campinas</td>\n",
       "      <td>31.84 %</td>\n",
       "      <td>51317.00</td>\n",
       "      <td>1539.50</td>\n",
       "      <td>794.571</td>\n",
       "      <td>0.805</td>\n",
       "    </tr>\n",
       "    <tr>\n",
       "      <th>3</th>\n",
       "      <td>Capital</td>\n",
       "      <td>13.92 %</td>\n",
       "      <td>52992.00</td>\n",
       "      <td>8149.00</td>\n",
       "      <td>1521.202</td>\n",
       "      <td>0.805</td>\n",
       "    </tr>\n",
       "    <tr>\n",
       "      <th>4</th>\n",
       "      <td>Grande São Paulo</td>\n",
       "      <td>22.26 %</td>\n",
       "      <td>39410.54</td>\n",
       "      <td>1502.12</td>\n",
       "      <td>6425.640</td>\n",
       "      <td>0.788</td>\n",
       "    </tr>\n",
       "    <tr>\n",
       "      <th>5</th>\n",
       "      <td>Piracicaba</td>\n",
       "      <td>39.20 %</td>\n",
       "      <td>66722.37</td>\n",
       "      <td>297.70</td>\n",
       "      <td>1378.069</td>\n",
       "      <td>0.785</td>\n",
       "    </tr>\n",
       "    <tr>\n",
       "      <th>6</th>\n",
       "      <td>Presidente Prudente</td>\n",
       "      <td>80.14 %</td>\n",
       "      <td>36926.23</td>\n",
       "      <td>413.70</td>\n",
       "      <td>560.637</td>\n",
       "      <td>0.806</td>\n",
       "    </tr>\n",
       "    <tr>\n",
       "      <th>7</th>\n",
       "      <td>Ribeirão Preto</td>\n",
       "      <td>39.61 %</td>\n",
       "      <td>49476.86</td>\n",
       "      <td>1106.30</td>\n",
       "      <td>650.916</td>\n",
       "      <td>0.800</td>\n",
       "    </tr>\n",
       "    <tr>\n",
       "      <th>8</th>\n",
       "      <td>Santos</td>\n",
       "      <td>24.34 %</td>\n",
       "      <td>50901.03</td>\n",
       "      <td>1544.20</td>\n",
       "      <td>281.033</td>\n",
       "      <td>0.840</td>\n",
       "    </tr>\n",
       "    <tr>\n",
       "      <th>9</th>\n",
       "      <td>São José do Rio Preto</td>\n",
       "      <td>54.53 %</td>\n",
       "      <td>40204.08</td>\n",
       "      <td>1086.10</td>\n",
       "      <td>431.944</td>\n",
       "      <td>0.797</td>\n",
       "    </tr>\n",
       "    <tr>\n",
       "      <th>10</th>\n",
       "      <td>São José dos Campos</td>\n",
       "      <td>44.51 %</td>\n",
       "      <td>53646.74</td>\n",
       "      <td>670.60</td>\n",
       "      <td>1099.409</td>\n",
       "      <td>0.807</td>\n",
       "    </tr>\n",
       "    <tr>\n",
       "      <th>11</th>\n",
       "      <td>Sorocaba</td>\n",
       "      <td>46.37 %</td>\n",
       "      <td>53427.50</td>\n",
       "      <td>1546.60</td>\n",
       "      <td>449.872</td>\n",
       "      <td>0.798</td>\n",
       "    </tr>\n",
       "  </tbody>\n",
       "</table>\n",
       "</div>"
      ],
      "text/plain": [
       "                  Regiões Segurança (%)  PIB per capita  \\\n",
       "0               Araçatuba       64.98 %        41913.02   \n",
       "1                   Bauru       49.02 %        40021.97   \n",
       "2                Campinas       31.84 %        51317.00   \n",
       "3                 Capital       13.92 %        52992.00   \n",
       "4        Grande São Paulo       22.26 %        39410.54   \n",
       "5              Piracicaba       39.20 %        66722.37   \n",
       "6     Presidente Prudente       80.14 %        36926.23   \n",
       "7          Ribeirão Preto       39.61 %        49476.86   \n",
       "8                  Santos       24.34 %        50901.03   \n",
       "9   São José do Rio Preto       54.53 %        40204.08   \n",
       "10    São José dos Campos       44.51 %        53646.74   \n",
       "11               Sorocaba       46.37 %        53427.50   \n",
       "\n",
       "    Densidade demográfica (hab/km²)  Áreas (km²)    IDH  \n",
       "0                            170.60     1167.230  0.788  \n",
       "1                            571.60      667.684  0.801  \n",
       "2                           1539.50      794.571  0.805  \n",
       "3                           8149.00     1521.202  0.805  \n",
       "4                           1502.12     6425.640  0.788  \n",
       "5                            297.70     1378.069  0.785  \n",
       "6                            413.70      560.637  0.806  \n",
       "7                           1106.30      650.916  0.800  \n",
       "8                           1544.20      281.033  0.840  \n",
       "9                           1086.10      431.944  0.797  \n",
       "10                           670.60     1099.409  0.807  \n",
       "11                          1546.60      449.872  0.798  "
      ]
     },
     "metadata": {},
     "output_type": "display_data"
    }
   ],
   "source": [
    "print('Data Frame com segurança arredondada na forma string')\n",
    "display(df)"
   ]
  },
  {
   "cell_type": "code",
   "execution_count": 510,
   "metadata": {},
   "outputs": [
    {
     "name": "stdout",
     "output_type": "stream",
     "text": [
      "Data Frame com segurança na forma float\n"
     ]
    },
    {
     "data": {
      "text/html": [
       "<div>\n",
       "<style scoped>\n",
       "    .dataframe tbody tr th:only-of-type {\n",
       "        vertical-align: middle;\n",
       "    }\n",
       "\n",
       "    .dataframe tbody tr th {\n",
       "        vertical-align: top;\n",
       "    }\n",
       "\n",
       "    .dataframe thead th {\n",
       "        text-align: right;\n",
       "    }\n",
       "</style>\n",
       "<table border=\"1\" class=\"dataframe\">\n",
       "  <thead>\n",
       "    <tr style=\"text-align: right;\">\n",
       "      <th></th>\n",
       "      <th>Regiões</th>\n",
       "      <th>Segurança (%)</th>\n",
       "      <th>PIB per capita</th>\n",
       "      <th>Densidade demográfica (hab/km²)</th>\n",
       "      <th>Áreas (km²)</th>\n",
       "      <th>IDH</th>\n",
       "    </tr>\n",
       "  </thead>\n",
       "  <tbody>\n",
       "    <tr>\n",
       "      <th>0</th>\n",
       "      <td>Araçatuba</td>\n",
       "      <td>64.984877</td>\n",
       "      <td>41913.02</td>\n",
       "      <td>170.60</td>\n",
       "      <td>1167.230</td>\n",
       "      <td>0.788</td>\n",
       "    </tr>\n",
       "    <tr>\n",
       "      <th>1</th>\n",
       "      <td>Bauru</td>\n",
       "      <td>49.018789</td>\n",
       "      <td>40021.97</td>\n",
       "      <td>571.60</td>\n",
       "      <td>667.684</td>\n",
       "      <td>0.801</td>\n",
       "    </tr>\n",
       "    <tr>\n",
       "      <th>2</th>\n",
       "      <td>Campinas</td>\n",
       "      <td>31.835767</td>\n",
       "      <td>51317.00</td>\n",
       "      <td>1539.50</td>\n",
       "      <td>794.571</td>\n",
       "      <td>0.805</td>\n",
       "    </tr>\n",
       "    <tr>\n",
       "      <th>3</th>\n",
       "      <td>Capital</td>\n",
       "      <td>13.921679</td>\n",
       "      <td>52992.00</td>\n",
       "      <td>8149.00</td>\n",
       "      <td>1521.202</td>\n",
       "      <td>0.805</td>\n",
       "    </tr>\n",
       "    <tr>\n",
       "      <th>4</th>\n",
       "      <td>Grande São Paulo</td>\n",
       "      <td>22.256162</td>\n",
       "      <td>39410.54</td>\n",
       "      <td>1502.12</td>\n",
       "      <td>6425.640</td>\n",
       "      <td>0.788</td>\n",
       "    </tr>\n",
       "    <tr>\n",
       "      <th>5</th>\n",
       "      <td>Piracicaba</td>\n",
       "      <td>39.204907</td>\n",
       "      <td>66722.37</td>\n",
       "      <td>297.70</td>\n",
       "      <td>1378.069</td>\n",
       "      <td>0.785</td>\n",
       "    </tr>\n",
       "    <tr>\n",
       "      <th>6</th>\n",
       "      <td>Presidente Prudente</td>\n",
       "      <td>80.139411</td>\n",
       "      <td>36926.23</td>\n",
       "      <td>413.70</td>\n",
       "      <td>560.637</td>\n",
       "      <td>0.806</td>\n",
       "    </tr>\n",
       "    <tr>\n",
       "      <th>7</th>\n",
       "      <td>Ribeirão Preto</td>\n",
       "      <td>39.607968</td>\n",
       "      <td>49476.86</td>\n",
       "      <td>1106.30</td>\n",
       "      <td>650.916</td>\n",
       "      <td>0.800</td>\n",
       "    </tr>\n",
       "    <tr>\n",
       "      <th>8</th>\n",
       "      <td>Santos</td>\n",
       "      <td>24.339293</td>\n",
       "      <td>50901.03</td>\n",
       "      <td>1544.20</td>\n",
       "      <td>281.033</td>\n",
       "      <td>0.840</td>\n",
       "    </tr>\n",
       "    <tr>\n",
       "      <th>9</th>\n",
       "      <td>São José do Rio Preto</td>\n",
       "      <td>54.533356</td>\n",
       "      <td>40204.08</td>\n",
       "      <td>1086.10</td>\n",
       "      <td>431.944</td>\n",
       "      <td>0.797</td>\n",
       "    </tr>\n",
       "    <tr>\n",
       "      <th>10</th>\n",
       "      <td>São José dos Campos</td>\n",
       "      <td>44.509382</td>\n",
       "      <td>53646.74</td>\n",
       "      <td>670.60</td>\n",
       "      <td>1099.409</td>\n",
       "      <td>0.807</td>\n",
       "    </tr>\n",
       "    <tr>\n",
       "      <th>11</th>\n",
       "      <td>Sorocaba</td>\n",
       "      <td>46.371972</td>\n",
       "      <td>53427.50</td>\n",
       "      <td>1546.60</td>\n",
       "      <td>449.872</td>\n",
       "      <td>0.798</td>\n",
       "    </tr>\n",
       "  </tbody>\n",
       "</table>\n",
       "</div>"
      ],
      "text/plain": [
       "                  Regiões  Segurança (%)  PIB per capita  \\\n",
       "0               Araçatuba      64.984877        41913.02   \n",
       "1                   Bauru      49.018789        40021.97   \n",
       "2                Campinas      31.835767        51317.00   \n",
       "3                 Capital      13.921679        52992.00   \n",
       "4        Grande São Paulo      22.256162        39410.54   \n",
       "5              Piracicaba      39.204907        66722.37   \n",
       "6     Presidente Prudente      80.139411        36926.23   \n",
       "7          Ribeirão Preto      39.607968        49476.86   \n",
       "8                  Santos      24.339293        50901.03   \n",
       "9   São José do Rio Preto      54.533356        40204.08   \n",
       "10    São José dos Campos      44.509382        53646.74   \n",
       "11               Sorocaba      46.371972        53427.50   \n",
       "\n",
       "    Densidade demográfica (hab/km²)  Áreas (km²)    IDH  \n",
       "0                            170.60     1167.230  0.788  \n",
       "1                            571.60      667.684  0.801  \n",
       "2                           1539.50      794.571  0.805  \n",
       "3                           8149.00     1521.202  0.805  \n",
       "4                           1502.12     6425.640  0.788  \n",
       "5                            297.70     1378.069  0.785  \n",
       "6                            413.70      560.637  0.806  \n",
       "7                           1106.30      650.916  0.800  \n",
       "8                           1544.20      281.033  0.840  \n",
       "9                           1086.10      431.944  0.797  \n",
       "10                           670.60     1099.409  0.807  \n",
       "11                          1546.60      449.872  0.798  "
      ]
     },
     "metadata": {},
     "output_type": "display_data"
    }
   ],
   "source": [
    "print('Data Frame com segurança na forma float')\n",
    "display(df2)"
   ]
  },
  {
   "cell_type": "code",
   "execution_count": 511,
   "metadata": {},
   "outputs": [
    {
     "data": {
      "text/html": [
       "<div>\n",
       "<style scoped>\n",
       "    .dataframe tbody tr th:only-of-type {\n",
       "        vertical-align: middle;\n",
       "    }\n",
       "\n",
       "    .dataframe tbody tr th {\n",
       "        vertical-align: top;\n",
       "    }\n",
       "\n",
       "    .dataframe thead th {\n",
       "        text-align: right;\n",
       "    }\n",
       "</style>\n",
       "<table border=\"1\" class=\"dataframe\">\n",
       "  <thead>\n",
       "    <tr style=\"text-align: right;\">\n",
       "      <th></th>\n",
       "      <th>Segurança (%)</th>\n",
       "      <th>PIB per capita</th>\n",
       "      <th>Densidade demográfica (hab/km²)</th>\n",
       "      <th>Áreas (km²)</th>\n",
       "      <th>IDH</th>\n",
       "    </tr>\n",
       "  </thead>\n",
       "  <tbody>\n",
       "    <tr>\n",
       "      <th>count</th>\n",
       "      <td>12.000000</td>\n",
       "      <td>12.000000</td>\n",
       "      <td>12.000000</td>\n",
       "      <td>12.000000</td>\n",
       "      <td>12.000000</td>\n",
       "    </tr>\n",
       "    <tr>\n",
       "      <th>mean</th>\n",
       "      <td>42.560297</td>\n",
       "      <td>48079.945000</td>\n",
       "      <td>1549.835000</td>\n",
       "      <td>1285.683917</td>\n",
       "      <td>0.801667</td>\n",
       "    </tr>\n",
       "    <tr>\n",
       "      <th>std</th>\n",
       "      <td>18.630057</td>\n",
       "      <td>8613.928353</td>\n",
       "      <td>2141.666933</td>\n",
       "      <td>1665.707548</td>\n",
       "      <td>0.014234</td>\n",
       "    </tr>\n",
       "    <tr>\n",
       "      <th>min</th>\n",
       "      <td>13.921679</td>\n",
       "      <td>36926.230000</td>\n",
       "      <td>170.600000</td>\n",
       "      <td>281.033000</td>\n",
       "      <td>0.785000</td>\n",
       "    </tr>\n",
       "    <tr>\n",
       "      <th>25%</th>\n",
       "      <td>29.961648</td>\n",
       "      <td>40158.552500</td>\n",
       "      <td>532.125000</td>\n",
       "      <td>532.945750</td>\n",
       "      <td>0.794750</td>\n",
       "    </tr>\n",
       "    <tr>\n",
       "      <th>50%</th>\n",
       "      <td>42.058675</td>\n",
       "      <td>50188.945000</td>\n",
       "      <td>1096.200000</td>\n",
       "      <td>731.127500</td>\n",
       "      <td>0.800500</td>\n",
       "    </tr>\n",
       "    <tr>\n",
       "      <th>75%</th>\n",
       "      <td>50.397431</td>\n",
       "      <td>53100.875000</td>\n",
       "      <td>1540.675000</td>\n",
       "      <td>1219.939750</td>\n",
       "      <td>0.805250</td>\n",
       "    </tr>\n",
       "    <tr>\n",
       "      <th>max</th>\n",
       "      <td>80.139411</td>\n",
       "      <td>66722.370000</td>\n",
       "      <td>8149.000000</td>\n",
       "      <td>6425.640000</td>\n",
       "      <td>0.840000</td>\n",
       "    </tr>\n",
       "  </tbody>\n",
       "</table>\n",
       "</div>"
      ],
      "text/plain": [
       "       Segurança (%)  PIB per capita  Densidade demográfica (hab/km²)  \\\n",
       "count      12.000000       12.000000                        12.000000   \n",
       "mean       42.560297    48079.945000                      1549.835000   \n",
       "std        18.630057     8613.928353                      2141.666933   \n",
       "min        13.921679    36926.230000                       170.600000   \n",
       "25%        29.961648    40158.552500                       532.125000   \n",
       "50%        42.058675    50188.945000                      1096.200000   \n",
       "75%        50.397431    53100.875000                      1540.675000   \n",
       "max        80.139411    66722.370000                      8149.000000   \n",
       "\n",
       "       Áreas (km²)        IDH  \n",
       "count    12.000000  12.000000  \n",
       "mean   1285.683917   0.801667  \n",
       "std    1665.707548   0.014234  \n",
       "min     281.033000   0.785000  \n",
       "25%     532.945750   0.794750  \n",
       "50%     731.127500   0.800500  \n",
       "75%    1219.939750   0.805250  \n",
       "max    6425.640000   0.840000  "
      ]
     },
     "metadata": {},
     "output_type": "display_data"
    }
   ],
   "source": [
    "descrições = df2.describe()\n",
    "display(descrições)"
   ]
  },
  {
   "attachments": {},
   "cell_type": "markdown",
   "metadata": {},
   "source": [
    "Agora, iremos olhar como que cada uma das variáveis se relaciona com a segurança, nossa variável dependente, tanto gráficamente através de gráficos de dispersão quanto por correlação."
   ]
  },
  {
   "cell_type": "code",
   "execution_count": 512,
   "metadata": {},
   "outputs": [
    {
     "data": {
      "image/png": "[encoded data removed]",
      "text/plain": [
       "<Figure size 432x288 with 1 Axes>"
      ]
     },
     "metadata": {
      "needs_background": "light"
     },
     "output_type": "display_data"
    }
   ],
   "source": [
    "plt.scatter(df2['PIB per capita'], df2['Segurança (%)'])\n",
    "plt.title('Dispersão - Segurança e PIB per capita ')\n",
    "plt.ylabel('Segurança (%)')\n",
    "plt.xlabel('PIB per capita')\n",
    "plt.show()"
   ]
  },
  {
   "cell_type": "code",
   "execution_count": 513,
   "metadata": {},
   "outputs": [
    {
     "name": "stdout",
     "output_type": "stream",
     "text": [
      "Correlação entre a segurança e o PIB per capita: -0.44752106720715445\n"
     ]
    }
   ],
   "source": [
    "corr_seg_PIB = df2['Segurança (%)'].corr(df2['PIB per capita'])\n",
    "print(f'Correlação entre a segurança e o PIB per capita: {corr_seg_PIB}')"
   ]
  },
  {
   "cell_type": "code",
   "execution_count": 514,
   "metadata": {},
   "outputs": [
    {
     "data": {
      "image/png": "[encoded data removed]",
      "text/plain": [
       "<Figure size 432x288 with 1 Axes>"
      ]
     },
     "metadata": {
      "needs_background": "light"
     },
     "output_type": "display_data"
    }
   ],
   "source": [
    "plt.scatter(df2['Densidade demográfica (hab/km²)'], df2['Segurança (%)'])\n",
    "plt.title('Dispersão - Segurança e Densidade ')\n",
    "plt.ylabel('Segurança (%)')\n",
    "plt.xlabel('Densidade demográfica (hab/km²)')\n",
    "plt.show()"
   ]
  },
  {
   "cell_type": "code",
   "execution_count": 515,
   "metadata": {},
   "outputs": [
    {
     "name": "stdout",
     "output_type": "stream",
     "text": [
      "Correlação entre a segurança e a densidade demográfica: -0.6140851649472221\n"
     ]
    }
   ],
   "source": [
    "corr_seg_dens = df2['Segurança (%)'].corr(df2['Densidade demográfica (hab/km²)'])\n",
    "print(f'Correlação entre a segurança e a densidade demográfica: {corr_seg_dens}')"
   ]
  },
  {
   "cell_type": "code",
   "execution_count": 516,
   "metadata": {},
   "outputs": [
    {
     "data": {
      "image/png": "[encoded data removed]",
      "text/plain": [
       "<Figure size 432x288 with 1 Axes>"
      ]
     },
     "metadata": {
      "needs_background": "light"
     },
     "output_type": "display_data"
    }
   ],
   "source": [
    "plt.scatter(df2['Áreas (km²)'], df2['Segurança (%)'])\n",
    "plt.title('Dispersão - Segurança e Áreas ')\n",
    "plt.ylabel('Segurança (%)')\n",
    "plt.xlabel('Áreas (km²)')\n",
    "plt.show()"
   ]
  },
  {
   "cell_type": "code",
   "execution_count": 517,
   "metadata": {},
   "outputs": [
    {
     "name": "stdout",
     "output_type": "stream",
     "text": [
      "Correlação entre a segurança e a área: -0.39148613382453673\n"
     ]
    }
   ],
   "source": [
    "corr_seg_area = df2['Segurança (%)'].corr(df2['Áreas (km²)'])\n",
    "print(f'Correlação entre a segurança e a área: {corr_seg_area}')"
   ]
  },
  {
   "cell_type": "code",
   "execution_count": 518,
   "metadata": {},
   "outputs": [
    {
     "data": {
      "image/png": "[encoded data removed]",
      "text/plain": [
       "<Figure size 432x288 with 1 Axes>"
      ]
     },
     "metadata": {
      "needs_background": "light"
     },
     "output_type": "display_data"
    }
   ],
   "source": [
    "plt.scatter(df2['IDH'], df2['Segurança (%)'])\n",
    "plt.title('Dispersão - Segurança e IDHs ')\n",
    "plt.ylabel('Segurança (%)')\n",
    "plt.xlabel('IDHs')\n",
    "plt.show()"
   ]
  },
  {
   "cell_type": "code",
   "execution_count": 519,
   "metadata": {},
   "outputs": [
    {
     "name": "stdout",
     "output_type": "stream",
     "text": [
      "Correlação entre a segurança e o IDH: -0.2395411337251135\n"
     ]
    }
   ],
   "source": [
    "corr_seg_idh = df2['Segurança (%)'].corr(df2['IDH'])\n",
    "print(f'Correlação entre a segurança e o IDH: {corr_seg_idh}')"
   ]
  },
  {
   "attachments": {},
   "cell_type": "markdown",
   "metadata": {},
   "source": [
    "Conclusões a partir dos gráficos e das correlações extraídas:\n",
    "\n",
    "Pode-se perceber que a segurança, ao ser relacionada com todas as nossas variáveis explicativas, apresentou uma correlação menor que zero. Ou seja, quanto maior o PIB per capita, a densidade demográfica, a área e o IDH municipal menor é a segurança de uma região. Interpretando esta informação, percebe-se que ela é coerente o com mundo real, já que uma área maior é capaz de acomodar um maior número de pessoas e, portanto, as chances de se acumular riquezas aumenta. Logo, o número de crimes de uma região mais rica também cresce.\n",
    "\n",
    "Além disso, locais com IDHs maiores, isto é, altos índices de escolarização, PIBs e serviços de saúde bons são mais procurados pelas pessoas. Vamos, mais uma vez, tomar São Paulo capital como um exemplo."
   ]
  },
  {
   "cell_type": "code",
   "execution_count": 520,
   "metadata": {},
   "outputs": [
    {
     "name": "stdout",
     "output_type": "stream",
     "text": [
      "Maior IDH: 0.84\n",
      "IDH de São Paulo capital: 0.805\n",
      "Diferença: 0.03499999999999992\n"
     ]
    }
   ],
   "source": [
    "# Pega maior IDH na variável contendo as medidas-resumo do df2\n",
    "idh_maior = descrições.loc['max', 'IDH']\n",
    "print(f'Maior IDH: {idh_maior}')\n",
    "print(f'IDH de São Paulo capital: {IDHs[3]}')\n",
    "print(f'Diferença: {idh_maior - IDHs[3]}')"
   ]
  },
  {
   "cell_type": "code",
   "execution_count": 521,
   "metadata": {},
   "outputs": [
    {
     "name": "stdout",
     "output_type": "stream",
     "text": [
      "Maior PIB per capita: 66722.37\n",
      "PIB per capita de São Paulo capital: 52992\n",
      "Diferença: 13730.369999999995\n"
     ]
    }
   ],
   "source": [
    "# Pega maior PIB per capita na variável contendo as medidas-resumo do df2 \n",
    "pib_maior = descrições.loc['max', 'PIB per capita']\n",
    "print(f'Maior PIB per capita: {pib_maior}')\n",
    "print(f'PIB per capita de São Paulo capital: {PIB_per_capita[3]}')\n",
    "print(f'Diferença: {pib_maior - PIB_per_capita[3]}')"
   ]
  },
  {
   "cell_type": "code",
   "execution_count": 522,
   "metadata": {},
   "outputs": [
    {
     "name": "stdout",
     "output_type": "stream",
     "text": [
      "Segunda maior Área: 1521.202\n",
      "Área de São Paulo capital: 1521.202\n",
      "Diferença: 0.0\n"
     ]
    }
   ],
   "source": [
    "# Pega segunda maior área no df2\n",
    "top2_areas = df2['Áreas (km²)'].sort_values().tail(2)\n",
    "segunda_area = top2_areas.iloc[0]\n",
    "print(f'Segunda maior Área: {segunda_area}')\n",
    "print(f'Área de São Paulo capital: {tamanhos[3]}')\n",
    "print(f'Diferença: {segunda_area - tamanhos[3]}')"
   ]
  },
  {
   "cell_type": "code",
   "execution_count": 523,
   "metadata": {},
   "outputs": [
    {
     "name": "stdout",
     "output_type": "stream",
     "text": [
      "Maior Densidade demográfica: 8149.0\n",
      "Densidade demográfica de São Paulo capital: 8149\n",
      "Diferença: 0.0\n"
     ]
    }
   ],
   "source": [
    "# Pega maior densidade demográfica na variável contendo as medidas-resumo do df2 \n",
    "densidade_maior = descrições.loc['max', 'Densidade demográfica (hab/km²)']\n",
    "print(f'Maior Densidade demográfica: {densidade_maior}')\n",
    "print(f'Densidade demográfica de São Paulo capital: {Densidade_demografica[3]}')\n",
    "print(f'Diferença: {densidade_maior - Densidade_demografica[3]}')"
   ]
  },
  {
   "cell_type": "code",
   "execution_count": 524,
   "metadata": {},
   "outputs": [
    {
     "name": "stdout",
     "output_type": "stream",
     "text": [
      "Menor taxa de segurança: 13.92 %\n",
      "Densidade demográfica de São Paulo capital: 13.92 %\n",
      "Diferença: 0.00 %\n"
     ]
    }
   ],
   "source": [
    "# Pega menor taxa de segurança na variável contendo as medidas-resumo do df2 \n",
    "seg_menor = descrições.loc['min', 'Segurança (%)']\n",
    "print(f'Menor taxa de segurança: {seg_menor:.2f} %')\n",
    "print(f'Densidade demográfica de São Paulo capital: {niveis_de_segurança_str[3]}')\n",
    "print(f'Diferença: {(seg_menor - niveis_de_segurança_float[3]):.2f} %')"
   ]
  },
  {
   "attachments": {},
   "cell_type": "markdown",
   "metadata": {},
   "source": [
    "Acima, a gente percebe que, como era esperado, São Paulo capital é a região menos segura do nosso estudo e, por isso, é um bom parâmetro para entender se fazem sentido as medidas de correlação encontradas. Além de menos segura, a capital é também a região com maior densidade demográfica, está apenas 0.035 abaixo do maior IDH, 13730 abaixo do maior PIB per capita e corresponde à segunda maior área (a Grande São Paulo que contém a maior área seria um outlier neste caso).\n",
    "\n",
    "Portanto, é evidente a relação de proporcionalidade inversa entre a variável target e as variáveis explicativas e, consequentemente, as correlações encontradas estão validadas."
   ]
  },
  {
   "attachments": {},
   "cell_type": "markdown",
   "metadata": {},
   "source": [
    "# C.Modelos de Predição "
   ]
  },
  {
   "attachments": {},
   "cell_type": "markdown",
   "metadata": {},
   "source": [
    "Agora que já temos nossa base de dados pronta e já analisamos as correlações entre a variável reposta e as variáveis explicativas, iniciamos a montagem dos nossos modelos preditivos por meio de duas técnicas distintas. Primeiramente, realizaremos uma regressão múltipla por meio da biblioteca statsmodels.OLS. Em seguida, construiremos a o segundo modelo através da técnica Random Forest Tree.  "
   ]
  },
  {
   "attachments": {},
   "cell_type": "markdown",
   "metadata": {},
   "source": [
    "<div id=\"ols\"></div>\n",
    "\n",
    "# C1. Regressão Múltipla via `statsmodels.OLS`"
   ]
  },
  {
   "attachments": {},
   "cell_type": "markdown",
   "metadata": {},
   "source": [
    "Para começar a regressão múltipla, definimos a função que será responsável por este processo. Para tanto, foi usado como base o Jupyter Notebook da Aula 27 de Ciência dos Dados do Insper (presente em referências). O intuito da função é receber dois argumentos (uma coluna do DataFrame contendo a variável target - no nosso caso, taxa de segurança - e as colunas contendo as demais variáveis relevantes). Com isso, ela adiciona como constante a variável dependente e retorna o modelo pronto. "
   ]
  },
  {
   "cell_type": "code",
   "execution_count": 525,
   "metadata": {},
   "outputs": [],
   "source": [
    "# Função utilitária para fazer a regressão com constante adicionada\n",
    "\n",
    "def regress(Y,X):\n",
    "    \n",
    "    #Y: coluna do DataFrame utilizada como variável resposta (TARGET)\n",
    "    #X: coluna(s) do DataFrame utilizadas como variável(is) explicativas (FEATURES)\n",
    "    \n",
    "    X_cp = sm.add_constant(X)\n",
    "    model = sm.OLS(Y,X_cp)\n",
    "    results = model.fit()\n",
    "    \n",
    "    return results"
   ]
  },
  {
   "attachments": {},
   "cell_type": "markdown",
   "metadata": {},
   "source": [
    "Agora, cria-se as duas variáveis que serão os argumentos da nossa função já definida:  "
   ]
  },
  {
   "cell_type": "code",
   "execution_count": 526,
   "metadata": {},
   "outputs": [],
   "source": [
    "# Variável contendo colunas das variáveis explicativas\n",
    "X = df2[['PIB per capita', 'Densidade demográfica (hab/km²)', 'Áreas (km²)', 'IDH']]\n",
    "# Variável contendo coluna da variável target\n",
    "Y = df2['Segurança (%)']"
   ]
  },
  {
   "attachments": {},
   "cell_type": "markdown",
   "metadata": {},
   "source": [
    "Realiza-se, em seguida, a primeira regressão e obtém-se os primeiros resultados."
   ]
  },
  {
   "cell_type": "code",
   "execution_count": 527,
   "metadata": {},
   "outputs": [
    {
     "name": "stderr",
     "output_type": "stream",
     "text": [
      "c:\\Users\\pedro\\anaconda3\\lib\\site-packages\\statsmodels\\tsa\\tsatools.py:142: FutureWarning: In a future version of pandas all arguments of concat except for the argument 'objs' will be keyword-only\n",
      "  x = pd.concat(x[::order], 1)\n",
      "c:\\Users\\pedro\\anaconda3\\lib\\site-packages\\scipy\\stats\\stats.py:1541: UserWarning: kurtosistest only valid for n>=20 ... continuing anyway, n=12\n",
      "  warnings.warn(\"kurtosistest only valid for n>=20 ... continuing \"\n"
     ]
    },
    {
     "data": {
      "text/html": [
       "<table class=\"simpletable\">\n",
       "<caption>OLS Regression Results</caption>\n",
       "<tr>\n",
       "  <th>Dep. Variable:</th>      <td>Segurança (%)</td>  <th>  R-squared:         </th> <td>   0.807</td>\n",
       "</tr>\n",
       "<tr>\n",
       "  <th>Model:</th>                   <td>OLS</td>       <th>  Adj. R-squared:    </th> <td>   0.697</td>\n",
       "</tr>\n",
       "<tr>\n",
       "  <th>Method:</th>             <td>Least Squares</td>  <th>  F-statistic:       </th> <td>   7.317</td>\n",
       "</tr>\n",
       "<tr>\n",
       "  <th>Date:</th>             <td>Tue, 30 May 2023</td> <th>  Prob (F-statistic):</th>  <td>0.0121</td> \n",
       "</tr>\n",
       "<tr>\n",
       "  <th>Time:</th>                 <td>21:53:35</td>     <th>  Log-Likelihood:    </th> <td> -41.733</td>\n",
       "</tr>\n",
       "<tr>\n",
       "  <th>No. Observations:</th>      <td>    12</td>      <th>  AIC:               </th> <td>   93.47</td>\n",
       "</tr>\n",
       "<tr>\n",
       "  <th>Df Residuals:</th>          <td>     7</td>      <th>  BIC:               </th> <td>   95.89</td>\n",
       "</tr>\n",
       "<tr>\n",
       "  <th>Df Model:</th>              <td>     4</td>      <th>                     </th>     <td> </td>   \n",
       "</tr>\n",
       "<tr>\n",
       "  <th>Covariance Type:</th>      <td>nonrobust</td>    <th>                     </th>     <td> </td>   \n",
       "</tr>\n",
       "</table>\n",
       "<table class=\"simpletable\">\n",
       "<tr>\n",
       "                 <td></td>                    <th>coef</th>     <th>std err</th>      <th>t</th>      <th>P>|t|</th>  <th>[0.025</th>    <th>0.975]</th>  \n",
       "</tr>\n",
       "<tr>\n",
       "  <th>const</th>                           <td>  540.9119</td> <td>  200.411</td> <td>    2.699</td> <td> 0.031</td> <td>   67.016</td> <td> 1014.808</td>\n",
       "</tr>\n",
       "<tr>\n",
       "  <th>PIB per capita</th>                  <td>   -0.0011</td> <td>    0.000</td> <td>   -2.823</td> <td> 0.026</td> <td>   -0.002</td> <td>   -0.000</td>\n",
       "</tr>\n",
       "<tr>\n",
       "  <th>Densidade demográfica (hab/km²)</th> <td>   -0.0035</td> <td>    0.002</td> <td>   -2.269</td> <td> 0.058</td> <td>   -0.007</td> <td>    0.000</td>\n",
       "</tr>\n",
       "<tr>\n",
       "  <th>Áreas (km²)</th>                     <td>   -0.0069</td> <td>    0.002</td> <td>   -3.257</td> <td> 0.014</td> <td>   -0.012</td> <td>   -0.002</td>\n",
       "</tr>\n",
       "<tr>\n",
       "  <th>IDH</th>                             <td> -539.9276</td> <td>  245.448</td> <td>   -2.200</td> <td> 0.064</td> <td>-1120.321</td> <td>   40.466</td>\n",
       "</tr>\n",
       "</table>\n",
       "<table class=\"simpletable\">\n",
       "<tr>\n",
       "  <th>Omnibus:</th>       <td> 3.767</td> <th>  Durbin-Watson:     </th> <td>   2.169</td>\n",
       "</tr>\n",
       "<tr>\n",
       "  <th>Prob(Omnibus):</th> <td> 0.152</td> <th>  Jarque-Bera (JB):  </th> <td>   1.438</td>\n",
       "</tr>\n",
       "<tr>\n",
       "  <th>Skew:</th>          <td> 0.813</td> <th>  Prob(JB):          </th> <td>   0.487</td>\n",
       "</tr>\n",
       "<tr>\n",
       "  <th>Kurtosis:</th>      <td> 3.486</td> <th>  Cond. No.          </th> <td>5.22e+06</td>\n",
       "</tr>\n",
       "</table><br/><br/>Notes:<br/>[1] Standard Errors assume that the covariance matrix of the errors is correctly specified.<br/>[2] The condition number is large, 5.22e+06. This might indicate that there are<br/>strong multicollinearity or other numerical problems."
      ],
      "text/plain": [
       "<class 'statsmodels.iolib.summary.Summary'>\n",
       "\"\"\"\n",
       "                            OLS Regression Results                            \n",
       "==============================================================================\n",
       "Dep. Variable:          Segurança (%)   R-squared:                       0.807\n",
       "Model:                            OLS   Adj. R-squared:                  0.697\n",
       "Method:                 Least Squares   F-statistic:                     7.317\n",
       "Date:                Tue, 30 May 2023   Prob (F-statistic):             0.0121\n",
       "Time:                        21:53:35   Log-Likelihood:                -41.733\n",
       "No. Observations:                  12   AIC:                             93.47\n",
       "Df Residuals:                       7   BIC:                             95.89\n",
       "Df Model:                           4                                         \n",
       "Covariance Type:            nonrobust                                         \n",
       "===================================================================================================\n",
       "                                      coef    std err          t      P>|t|      [0.025      0.975]\n",
       "---------------------------------------------------------------------------------------------------\n",
       "const                             540.9119    200.411      2.699      0.031      67.016    1014.808\n",
       "PIB per capita                     -0.0011      0.000     -2.823      0.026      -0.002      -0.000\n",
       "Densidade demográfica (hab/km²)    -0.0035      0.002     -2.269      0.058      -0.007       0.000\n",
       "Áreas (km²)                        -0.0069      0.002     -3.257      0.014      -0.012      -0.002\n",
       "IDH                              -539.9276    245.448     -2.200      0.064   -1120.321      40.466\n",
       "==============================================================================\n",
       "Omnibus:                        3.767   Durbin-Watson:                   2.169\n",
       "Prob(Omnibus):                  0.152   Jarque-Bera (JB):                1.438\n",
       "Skew:                           0.813   Prob(JB):                        0.487\n",
       "Kurtosis:                       3.486   Cond. No.                     5.22e+06\n",
       "==============================================================================\n",
       "\n",
       "Notes:\n",
       "[1] Standard Errors assume that the covariance matrix of the errors is correctly specified.\n",
       "[2] The condition number is large, 5.22e+06. This might indicate that there are\n",
       "strong multicollinearity or other numerical problems.\n",
       "\"\"\""
      ]
     },
     "execution_count": 527,
     "metadata": {},
     "output_type": "execute_result"
    }
   ],
   "source": [
    "results1 = regress(Y,X)\n",
    "results1.summary()"
   ]
  },
  {
   "attachments": {},
   "cell_type": "markdown",
   "metadata": {},
   "source": [
    "Interpretando os resultados:\n",
    "\n",
    "A coluna P > |t| indica o valor-p de cada variável explicativa selecionada pelo grupo. Em geral, um valor-p menor que o nível de significância ($\\alpha$) adotado (probabilidade de cometer um erro do tipo I (rejeitar a hipótese nula quando ela é verdadeira)) sugere que há evidências para rejeitar a hipótese nula de que a variável explicativa não tem efeito sobre a variável dependente (no contexto do projeto, segurança).\n",
    "\n",
    "Desse modo, visando filtrar apenas as variáveis que mais afetam a nossa variável dependente (segurança), foi escolhido 2% como o nível de significância. Logo, primeiramente será necessário retirar a variável Áreas para seguir com a regressão, já que esta apenas contém valor-p igual a 1,4%."
   ]
  },
  {
   "attachments": {},
   "cell_type": "markdown",
   "metadata": {},
   "source": [
    "Por isso, agora será necessário redefinir a variável X eliminando a coluna Áreas e, novamente, realizar a regressão por meio da nossa função regress()."
   ]
  },
  {
   "cell_type": "code",
   "execution_count": 528,
   "metadata": {},
   "outputs": [],
   "source": [
    "# Ajustando o modelo\n",
    "X = df2[['PIB per capita', 'Densidade demográfica (hab/km²)', 'IDH']]\n",
    "Y = df2['Segurança (%)']"
   ]
  },
  {
   "cell_type": "code",
   "execution_count": 529,
   "metadata": {},
   "outputs": [
    {
     "name": "stderr",
     "output_type": "stream",
     "text": [
      "c:\\Users\\pedro\\anaconda3\\lib\\site-packages\\statsmodels\\tsa\\tsatools.py:142: FutureWarning: In a future version of pandas all arguments of concat except for the argument 'objs' will be keyword-only\n",
      "  x = pd.concat(x[::order], 1)\n",
      "c:\\Users\\pedro\\anaconda3\\lib\\site-packages\\scipy\\stats\\stats.py:1541: UserWarning: kurtosistest only valid for n>=20 ... continuing anyway, n=12\n",
      "  warnings.warn(\"kurtosistest only valid for n>=20 ... continuing \"\n"
     ]
    },
    {
     "data": {
      "text/html": [
       "<table class=\"simpletable\">\n",
       "<caption>OLS Regression Results</caption>\n",
       "<tr>\n",
       "  <th>Dep. Variable:</th>      <td>Segurança (%)</td>  <th>  R-squared:         </th> <td>   0.514</td>\n",
       "</tr>\n",
       "<tr>\n",
       "  <th>Model:</th>                   <td>OLS</td>       <th>  Adj. R-squared:    </th> <td>   0.332</td>\n",
       "</tr>\n",
       "<tr>\n",
       "  <th>Method:</th>             <td>Least Squares</td>  <th>  F-statistic:       </th> <td>   2.825</td>\n",
       "</tr>\n",
       "<tr>\n",
       "  <th>Date:</th>             <td>Tue, 30 May 2023</td> <th>  Prob (F-statistic):</th>  <td> 0.107</td> \n",
       "</tr>\n",
       "<tr>\n",
       "  <th>Time:</th>                 <td>21:53:35</td>     <th>  Log-Likelihood:    </th> <td> -47.268</td>\n",
       "</tr>\n",
       "<tr>\n",
       "  <th>No. Observations:</th>      <td>    12</td>      <th>  AIC:               </th> <td>   102.5</td>\n",
       "</tr>\n",
       "<tr>\n",
       "  <th>Df Residuals:</th>          <td>     8</td>      <th>  BIC:               </th> <td>   104.5</td>\n",
       "</tr>\n",
       "<tr>\n",
       "  <th>Df Model:</th>              <td>     3</td>      <th>                     </th>     <td> </td>   \n",
       "</tr>\n",
       "<tr>\n",
       "  <th>Covariance Type:</th>      <td>nonrobust</td>    <th>                     </th>     <td> </td>   \n",
       "</tr>\n",
       "</table>\n",
       "<table class=\"simpletable\">\n",
       "<tr>\n",
       "                 <td></td>                    <th>coef</th>     <th>std err</th>      <th>t</th>      <th>P>|t|</th>  <th>[0.025</th>    <th>0.975]</th>  \n",
       "</tr>\n",
       "<tr>\n",
       "  <th>const</th>                           <td>  237.0160</td> <td>  263.160</td> <td>    0.901</td> <td> 0.394</td> <td> -369.833</td> <td>  843.865</td>\n",
       "</tr>\n",
       "<tr>\n",
       "  <th>PIB per capita</th>                  <td>   -0.0008</td> <td>    0.001</td> <td>   -1.395</td> <td> 0.201</td> <td>   -0.002</td> <td>    0.000</td>\n",
       "</tr>\n",
       "<tr>\n",
       "  <th>Densidade demográfica (hab/km²)</th> <td>   -0.0046</td> <td>    0.002</td> <td>   -2.075</td> <td> 0.072</td> <td>   -0.010</td> <td>    0.001</td>\n",
       "</tr>\n",
       "<tr>\n",
       "  <th>IDH</th>                             <td> -188.3876</td> <td>  327.074</td> <td>   -0.576</td> <td> 0.580</td> <td> -942.622</td> <td>  565.847</td>\n",
       "</tr>\n",
       "</table>\n",
       "<table class=\"simpletable\">\n",
       "<tr>\n",
       "  <th>Omnibus:</th>       <td> 3.711</td> <th>  Durbin-Watson:     </th> <td>   2.252</td>\n",
       "</tr>\n",
       "<tr>\n",
       "  <th>Prob(Omnibus):</th> <td> 0.156</td> <th>  Jarque-Bera (JB):  </th> <td>   1.029</td>\n",
       "</tr>\n",
       "<tr>\n",
       "  <th>Skew:</th>          <td>-0.471</td> <th>  Prob(JB):          </th> <td>   0.598</td>\n",
       "</tr>\n",
       "<tr>\n",
       "  <th>Kurtosis:</th>      <td> 4.082</td> <th>  Cond. No.          </th> <td>4.66e+06</td>\n",
       "</tr>\n",
       "</table><br/><br/>Notes:<br/>[1] Standard Errors assume that the covariance matrix of the errors is correctly specified.<br/>[2] The condition number is large, 4.66e+06. This might indicate that there are<br/>strong multicollinearity or other numerical problems."
      ],
      "text/plain": [
       "<class 'statsmodels.iolib.summary.Summary'>\n",
       "\"\"\"\n",
       "                            OLS Regression Results                            \n",
       "==============================================================================\n",
       "Dep. Variable:          Segurança (%)   R-squared:                       0.514\n",
       "Model:                            OLS   Adj. R-squared:                  0.332\n",
       "Method:                 Least Squares   F-statistic:                     2.825\n",
       "Date:                Tue, 30 May 2023   Prob (F-statistic):              0.107\n",
       "Time:                        21:53:35   Log-Likelihood:                -47.268\n",
       "No. Observations:                  12   AIC:                             102.5\n",
       "Df Residuals:                       8   BIC:                             104.5\n",
       "Df Model:                           3                                         \n",
       "Covariance Type:            nonrobust                                         \n",
       "===================================================================================================\n",
       "                                      coef    std err          t      P>|t|      [0.025      0.975]\n",
       "---------------------------------------------------------------------------------------------------\n",
       "const                             237.0160    263.160      0.901      0.394    -369.833     843.865\n",
       "PIB per capita                     -0.0008      0.001     -1.395      0.201      -0.002       0.000\n",
       "Densidade demográfica (hab/km²)    -0.0046      0.002     -2.075      0.072      -0.010       0.001\n",
       "IDH                              -188.3876    327.074     -0.576      0.580    -942.622     565.847\n",
       "==============================================================================\n",
       "Omnibus:                        3.711   Durbin-Watson:                   2.252\n",
       "Prob(Omnibus):                  0.156   Jarque-Bera (JB):                1.029\n",
       "Skew:                          -0.471   Prob(JB):                        0.598\n",
       "Kurtosis:                       4.082   Cond. No.                     4.66e+06\n",
       "==============================================================================\n",
       "\n",
       "Notes:\n",
       "[1] Standard Errors assume that the covariance matrix of the errors is correctly specified.\n",
       "[2] The condition number is large, 4.66e+06. This might indicate that there are\n",
       "strong multicollinearity or other numerical problems.\n",
       "\"\"\""
      ]
     },
     "execution_count": 529,
     "metadata": {},
     "output_type": "execute_result"
    }
   ],
   "source": [
    "results2 = regress(Y,X)\n",
    "results2.summary()"
   ]
  },
  {
   "attachments": {},
   "cell_type": "markdown",
   "metadata": {},
   "source": [
    "Nesta segunda regressão, percebe-se que, sem a variável Área, a densidade demográfica foi a que apresentou o menor valor-p. Logo, as duas variáveis expicativas mais relevantes para a nossa variável dependente serão IDH e PIB per capita. Faremos, então, uma última regressão somente com estes parâmetros."
   ]
  },
  {
   "cell_type": "code",
   "execution_count": 530,
   "metadata": {},
   "outputs": [
    {
     "name": "stderr",
     "output_type": "stream",
     "text": [
      "c:\\Users\\pedro\\anaconda3\\lib\\site-packages\\statsmodels\\tsa\\tsatools.py:142: FutureWarning: In a future version of pandas all arguments of concat except for the argument 'objs' will be keyword-only\n",
      "  x = pd.concat(x[::order], 1)\n",
      "c:\\Users\\pedro\\anaconda3\\lib\\site-packages\\scipy\\stats\\stats.py:1541: UserWarning: kurtosistest only valid for n>=20 ... continuing anyway, n=12\n",
      "  warnings.warn(\"kurtosistest only valid for n>=20 ... continuing \"\n"
     ]
    },
    {
     "data": {
      "text/html": [
       "<table class=\"simpletable\">\n",
       "<caption>OLS Regression Results</caption>\n",
       "<tr>\n",
       "  <th>Dep. Variable:</th>      <td>Segurança (%)</td>  <th>  R-squared:         </th> <td>   0.253</td>\n",
       "</tr>\n",
       "<tr>\n",
       "  <th>Model:</th>                   <td>OLS</td>       <th>  Adj. R-squared:    </th> <td>   0.087</td>\n",
       "</tr>\n",
       "<tr>\n",
       "  <th>Method:</th>             <td>Least Squares</td>  <th>  F-statistic:       </th> <td>   1.526</td>\n",
       "</tr>\n",
       "<tr>\n",
       "  <th>Date:</th>             <td>Tue, 30 May 2023</td> <th>  Prob (F-statistic):</th>  <td> 0.269</td> \n",
       "</tr>\n",
       "<tr>\n",
       "  <th>Time:</th>                 <td>21:53:35</td>     <th>  Log-Likelihood:    </th> <td> -49.851</td>\n",
       "</tr>\n",
       "<tr>\n",
       "  <th>No. Observations:</th>      <td>    12</td>      <th>  AIC:               </th> <td>   105.7</td>\n",
       "</tr>\n",
       "<tr>\n",
       "  <th>Df Residuals:</th>          <td>     9</td>      <th>  BIC:               </th> <td>   107.2</td>\n",
       "</tr>\n",
       "<tr>\n",
       "  <th>Df Model:</th>              <td>     2</td>      <th>                     </th>     <td> </td>   \n",
       "</tr>\n",
       "<tr>\n",
       "  <th>Covariance Type:</th>      <td>nonrobust</td>    <th>                     </th>     <td> </td>   \n",
       "</tr>\n",
       "</table>\n",
       "<table class=\"simpletable\">\n",
       "<tr>\n",
       "         <td></td>           <th>coef</th>     <th>std err</th>      <th>t</th>      <th>P>|t|</th>  <th>[0.025</th>    <th>0.975]</th>  \n",
       "</tr>\n",
       "<tr>\n",
       "  <th>const</th>          <td>  329.9701</td> <td>  303.207</td> <td>    1.088</td> <td> 0.305</td> <td> -355.931</td> <td> 1015.871</td>\n",
       "</tr>\n",
       "<tr>\n",
       "  <th>PIB per capita</th> <td>   -0.0010</td> <td>    0.001</td> <td>   -1.536</td> <td> 0.159</td> <td>   -0.002</td> <td>    0.000</td>\n",
       "</tr>\n",
       "<tr>\n",
       "  <th>IDH</th>            <td> -301.1057</td> <td>  377.117</td> <td>   -0.798</td> <td> 0.445</td> <td>-1154.203</td> <td>  551.991</td>\n",
       "</tr>\n",
       "</table>\n",
       "<table class=\"simpletable\">\n",
       "<tr>\n",
       "  <th>Omnibus:</th>       <td> 1.580</td> <th>  Durbin-Watson:     </th> <td>   1.304</td>\n",
       "</tr>\n",
       "<tr>\n",
       "  <th>Prob(Omnibus):</th> <td> 0.454</td> <th>  Jarque-Bera (JB):  </th> <td>   0.463</td>\n",
       "</tr>\n",
       "<tr>\n",
       "  <th>Skew:</th>          <td>-0.479</td> <th>  Prob(JB):          </th> <td>   0.793</td>\n",
       "</tr>\n",
       "<tr>\n",
       "  <th>Kurtosis:</th>      <td> 3.099</td> <th>  Cond. No.          </th> <td>4.59e+06</td>\n",
       "</tr>\n",
       "</table><br/><br/>Notes:<br/>[1] Standard Errors assume that the covariance matrix of the errors is correctly specified.<br/>[2] The condition number is large, 4.59e+06. This might indicate that there are<br/>strong multicollinearity or other numerical problems."
      ],
      "text/plain": [
       "<class 'statsmodels.iolib.summary.Summary'>\n",
       "\"\"\"\n",
       "                            OLS Regression Results                            \n",
       "==============================================================================\n",
       "Dep. Variable:          Segurança (%)   R-squared:                       0.253\n",
       "Model:                            OLS   Adj. R-squared:                  0.087\n",
       "Method:                 Least Squares   F-statistic:                     1.526\n",
       "Date:                Tue, 30 May 2023   Prob (F-statistic):              0.269\n",
       "Time:                        21:53:35   Log-Likelihood:                -49.851\n",
       "No. Observations:                  12   AIC:                             105.7\n",
       "Df Residuals:                       9   BIC:                             107.2\n",
       "Df Model:                           2                                         \n",
       "Covariance Type:            nonrobust                                         \n",
       "==================================================================================\n",
       "                     coef    std err          t      P>|t|      [0.025      0.975]\n",
       "----------------------------------------------------------------------------------\n",
       "const            329.9701    303.207      1.088      0.305    -355.931    1015.871\n",
       "PIB per capita    -0.0010      0.001     -1.536      0.159      -0.002       0.000\n",
       "IDH             -301.1057    377.117     -0.798      0.445   -1154.203     551.991\n",
       "==============================================================================\n",
       "Omnibus:                        1.580   Durbin-Watson:                   1.304\n",
       "Prob(Omnibus):                  0.454   Jarque-Bera (JB):                0.463\n",
       "Skew:                          -0.479   Prob(JB):                        0.793\n",
       "Kurtosis:                       3.099   Cond. No.                     4.59e+06\n",
       "==============================================================================\n",
       "\n",
       "Notes:\n",
       "[1] Standard Errors assume that the covariance matrix of the errors is correctly specified.\n",
       "[2] The condition number is large, 4.59e+06. This might indicate that there are\n",
       "strong multicollinearity or other numerical problems.\n",
       "\"\"\""
      ]
     },
     "execution_count": 530,
     "metadata": {},
     "output_type": "execute_result"
    }
   ],
   "source": [
    "# Obtém a regressão\n",
    "X3 = df[['PIB per capita', 'IDH']] # Coloca as duas variáveis explicativas filtradas\n",
    "results3 = regress(Y,X3)\n",
    "results3.summary()"
   ]
  },
  {
   "attachments": {},
   "cell_type": "markdown",
   "metadata": {},
   "source": [
    "Para finalizar, iremos visualizar num gráfico 3D a forma como a nossa variável target interage com as duas variáveis explicativas mais relevantes:"
   ]
  },
  {
   "cell_type": "code",
   "execution_count": 531,
   "metadata": {},
   "outputs": [],
   "source": [
    "# Recupera os parâmetros calculados\n",
    "beta0_hat = results3.params[0]  # variável dependente (target)\n",
    "beta1_hat = results3.params[1]  # variável PIB per capita\n",
    "beta2_hat = results3.params[2]  # variável IDH"
   ]
  },
  {
   "cell_type": "code",
   "execution_count": 532,
   "metadata": {},
   "outputs": [],
   "source": [
    "# Define uma função que aplica aos parâmetros\n",
    "def f(feature1, feature2):\n",
    "    return beta0_hat + beta1_hat*feature1 + beta2_hat*feature2"
   ]
  },
  {
   "cell_type": "code",
   "execution_count": 533,
   "metadata": {},
   "outputs": [],
   "source": [
    "# Gera 100 pontos entre os menores e maiores valores de cada feature\n",
    "npoints = 100\n",
    "feature1 = X3[\"PIB per capita\"] # Variável PIB per capita\n",
    "feature2 = X3[\"IDH\"] # Variável IDH\n",
    "x_vc = np.linspace(feature1.min(), feature1.max(), npoints)\n",
    "y_vc = np.linspace(feature2.min(), feature2.max(), npoints)"
   ]
  },
  {
   "cell_type": "code",
   "execution_count": 534,
   "metadata": {},
   "outputs": [],
   "source": [
    "# Constrói uma grade de 100x100 pontos \n",
    "eixo_x, eixo_y = np.meshgrid(x_vc, y_vc)"
   ]
  },
  {
   "cell_type": "code",
   "execution_count": 535,
   "metadata": {},
   "outputs": [],
   "source": [
    "# Aplica a função em cada ponto da grade \n",
    "# Constrói plano estimado\n",
    "fit_z = f(eixo_x, eixo_y)"
   ]
  },
  {
   "cell_type": "code",
   "execution_count": 536,
   "metadata": {},
   "outputs": [
    {
     "name": "stderr",
     "output_type": "stream",
     "text": [
      "C:\\Users\\pedro\\AppData\\Local\\Temp/ipykernel_20224/633122131.py:2: MatplotlibDeprecationWarning: Calling gca() with keyword arguments was deprecated in Matplotlib 3.4. Starting two minor releases later, gca() will take no keyword arguments. The gca() function should only be used to get the current axes, or if no axes exist, create new axes with default keyword arguments. To create a new axes with non-default arguments, use plt.axes() or plt.subplot().\n",
      "  plt3d = plt.figure().gca(projection=\"3d\")\n"
     ]
    },
    {
     "data": {
      "image/png": "[encoded data removed]",
      "text/plain": [
       "<Figure size 432x288 with 1 Axes>"
      ]
     },
     "metadata": {
      "needs_background": "light"
     },
     "output_type": "display_data"
    }
   ],
   "source": [
    "# Plota os pontos e o plano em 3D\n",
    "plt3d = plt.figure().gca(projection=\"3d\")\n",
    "plt3d.plot_surface(eixo_x, eixo_y, fit_z)\n",
    "plt3d.scatter(feature1, feature2, Y, color=\"r\")\n",
    "plt3d.set_xlabel(\"PIB per capita\")\n",
    "plt3d.set_ylabel(\"IDH\")\n",
    "plt3d.set_zlabel(\"Segurança (%)\")\n",
    "plt.show()"
   ]
  },
  {
   "attachments": {},
   "cell_type": "markdown",
   "metadata": {},
   "source": [
    "Conclusão sobre o gráfico:\n",
    "\n",
    "O gráfico dá vários indícios de que o modelo criado não é um modelo bom e de que as variáveis independentes selecionadas provavelmente não são as melhores para se explicar a target.\n",
    "\n",
    "Para perceber isso, podemos ver que existem pontos que se distanciam da reta azul. A distribuição dos pontos não é homogênea e provavelmente uma base de dados maior poderia auxiliar mais na interpretação visual. O ajuste do modelo e adoção de um nível de significância de 2% também pode ter afetado no resultado final. \n",
    "\n",
    "Em suma, as variáveis PIB per capita e IDH provavelmente ou devem ser substituídas por outras melhores para explicar a segurança de uma região ou também é necessária uma base de dados maior para se ajustar o modelo melhor.  "
   ]
  },
  {
   "attachments": {},
   "cell_type": "markdown",
   "metadata": {},
   "source": [
    "Para comprovar esta interpretação, vamos recorrer a uma medida de performance no processo de validação."
   ]
  },
  {
   "attachments": {},
   "cell_type": "markdown",
   "metadata": {},
   "source": [
    "# D1. Processo e Estatísticas de Validação da Regressão Múltipla"
   ]
  },
  {
   "attachments": {},
   "cell_type": "markdown",
   "metadata": {},
   "source": [
    "Para validar a regressão múltipla, podemos nos basear no valor R2 que já nos foi dado pela função statsmodels.OLS. Se olharmos mais uma vez para o output da nossa última regressão, percebemos que R2 corresponde a 0.253, ou seja, as informações dadas ao modelo correspondem a apenas 25,3% das informações necessárias para um modelo coerente. Logo, esta medida de performance entra em concordância com aquilo que percebemos na análise do gráfico 3D."
   ]
  },
  {
   "attachments": {},
   "cell_type": "markdown",
   "metadata": {},
   "source": [
    "Além do R2, outra maneira de avaliar o primeiro modelo feito é por meio da validação cruzada, que consiste em um método que estima o comportamento da nossa regressão para dados não vistos. Para tanto, será necessário dividir nossa base de dados em duas partes através do comando train_test_split(): uma de treinamento e outra de teste. Após essa divisão, o comando cross_val_score() realiza múltiplos experimentos de treinamento e teste em diferentes combinações de \"dobras\" (conjuntos da base de dados). "
   ]
  },
  {
   "cell_type": "code",
   "execution_count": 537,
   "metadata": {},
   "outputs": [],
   "source": [
    "y = df2['Segurança (%)'] # Variável resposta\n",
    "X = df2.loc[:, ['IDH', 'PIB per capita', 'Densidade demográfica (hab/km²)', 'Áreas (km²)']] # Variáveis explicativas\n",
    "\n",
    "# Cria base de treinamento e base de teste (divisão: 33%)\n",
    "X_train, X_test, y_train, y_test = train_test_split(\n",
    "    X, y, test_size=0.33, random_state=42)\n",
    "\n",
    "regressor = LinearRegression()\n",
    "\n",
    "# Realiza a validação cruzada com 4 dobras (devido ao limite da base de dados) e guarda na variável cross_vals \n",
    "cross_vals = cross_val_score(regressor, X_train, y_train, cv=4)"
   ]
  },
  {
   "cell_type": "code",
   "execution_count": 538,
   "metadata": {},
   "outputs": [
    {
     "name": "stdout",
     "output_type": "stream",
     "text": [
      "Performances nos quatro testes feitos pela validação cruzada da regressão linear: [-111.4891052  -234.21085681   -4.35707643   -0.55453885]\n"
     ]
    }
   ],
   "source": [
    "print(f'Performances nos quatro testes feitos pela validação cruzada da regressão linear: {cross_vals}')"
   ]
  },
  {
   "attachments": {},
   "cell_type": "markdown",
   "metadata": {},
   "source": [
    "Ao visualizar os valores de performances capturados pela validação cruzada, já é possível perceber que o modelo está longe de ser perfeito. A melhor performance foi na quarta combinação, em que o modelo ficou 0.55 ainda distante de ser considerado um modelo ruim (performance 0). É certeiro que a média de performance que será calculada na célula de código seguinte confirmará a ineficiência da regressão múltipla feita. "
   ]
  },
  {
   "cell_type": "code",
   "execution_count": 539,
   "metadata": {},
   "outputs": [
    {
     "name": "stdout",
     "output_type": "stream",
     "text": [
      "Média de performance na regressão linear: -87.65289432497983\n",
      "Desvio padrão das 4 performances: 95.61866726855858\n"
     ]
    }
   ],
   "source": [
    "print(f'Média de performance na regressão linear: {cross_vals.mean()}')\n",
    "\n",
    "print(f'Desvio padrão das 4 performances: {cross_vals.std()}')"
   ]
  },
  {
   "attachments": {},
   "cell_type": "markdown",
   "metadata": {},
   "source": [
    "<div id=\"ols\"></div>\n",
    "\n",
    "# C2. Random Forest Tree"
   ]
  },
  {
   "attachments": {},
   "cell_type": "markdown",
   "metadata": {},
   "source": [
    "Com a primeira técnica já finalizada e validada, repetimos os mesmos passos, porém, dessa vez, com a segunda técnica selecionada: o Random Forest Tree. Assim como foi o caso com a regressão múltipla, já existe uma função pronta que realiza este segundo processo de modelagem por regressão: tree.DecisionTreeRegressor()."
   ]
  },
  {
   "attachments": {},
   "cell_type": "markdown",
   "metadata": {},
   "source": [
    "Para plotar a árvore de decisão, iniciamos dividindo nossa base de dados da mesma forma como feito anteriormente: y corresponde à nossa target e X são todas as variáveis explicativas."
   ]
  },
  {
   "cell_type": "code",
   "execution_count": 548,
   "metadata": {},
   "outputs": [],
   "source": [
    "y = df2['Segurança (%)']\n",
    "X = df2.loc[:, ['IDH', 'PIB per capita', 'Densidade demográfica (hab/km²)', 'Áreas (km²)']]\n",
    "\n",
    "X_train, X_test, y_train, y_test = train_test_split(\n",
    "    X, y, test_size=0.33, random_state=42)"
   ]
  },
  {
   "attachments": {},
   "cell_type": "markdown",
   "metadata": {},
   "source": [
    "Treinaremos agora a máquina por meio do comando citado anteriormente e armazenaremos o modelo na variável clf para, enfim, fazer um teste de previsão por meio do comando .predict(), guardando o mesmo numa variável chamada y_predict. Esta variável nos ajudará a calcular o R2 do segundo modelo, já que o comando da árvore de decisão não faz esse cálculo automaticamente, como foi no caso do statsmodels.OLS. "
   ]
  },
  {
   "cell_type": "code",
   "execution_count": 541,
   "metadata": {},
   "outputs": [],
   "source": [
    "# Cria e ajusta modelo random forest\n",
    "clf = tree.DecisionTreeRegressor()\n",
    "clf = clf.fit(X_train, y_train)\n",
    "\n",
    "# Armazena teste de previsão\n",
    "y_predict = clf.predict(X_test)"
   ]
  },
  {
   "attachments": {},
   "cell_type": "markdown",
   "metadata": {},
   "source": [
    "Finalmente, plotamos nossa Random Forest Tree:"
   ]
  },
  {
   "cell_type": "code",
   "execution_count": 542,
   "metadata": {},
   "outputs": [
    {
     "data": {
      "text/plain": [
       "[Text(234.36, 201.90857142857143, 'X[0] <= 0.806\\nmse = 349.348\\nsamples = 8\\nvalue = 40.295'),\n",
       " Text(200.88000000000002, 170.84571428571428, 'X[3] <= 1449.635\\nmse = 140.053\\nsamples = 7\\nvalue = 34.602'),\n",
       " Text(133.92000000000002, 139.78285714285715, 'X[0] <= 0.803\\nmse = 36.417\\nsamples = 5\\nvalue = 41.208'),\n",
       " Text(100.44000000000001, 108.72, 'X[0] <= 0.801\\nmse = 18.073\\nsamples = 4\\nvalue = 43.551'),\n",
       " Text(66.96000000000001, 77.65714285714284, 'X[3] <= 550.394\\nmse = 10.809\\nsamples = 3\\nvalue = 41.728'),\n",
       " Text(33.480000000000004, 46.59428571428572, 'mse = 0.0\\nsamples = 1\\nvalue = 46.372'),\n",
       " Text(100.44000000000001, 46.59428571428572, 'X[3] <= 1014.492\\nmse = 0.041\\nsamples = 2\\nvalue = 39.406'),\n",
       " Text(66.96000000000001, 15.531428571428563, 'mse = 0.0\\nsamples = 1\\nvalue = 39.608'),\n",
       " Text(133.92000000000002, 15.531428571428563, 'mse = 0.0\\nsamples = 1\\nvalue = 39.205'),\n",
       " Text(133.92000000000002, 77.65714285714284, 'mse = 0.0\\nsamples = 1\\nvalue = 49.019'),\n",
       " Text(167.40000000000003, 108.72, 'mse = 0.0\\nsamples = 1\\nvalue = 31.836'),\n",
       " Text(267.84000000000003, 139.78285714285715, 'X[2] <= 4825.56\\nmse = 17.366\\nsamples = 2\\nvalue = 18.089'),\n",
       " Text(234.36, 108.72, 'mse = 0.0\\nsamples = 1\\nvalue = 22.256'),\n",
       " Text(301.32000000000005, 108.72, 'mse = 0.0\\nsamples = 1\\nvalue = 13.922'),\n",
       " Text(267.84000000000003, 170.84571428571428, 'mse = 0.0\\nsamples = 1\\nvalue = 80.139')]"
      ]
     },
     "execution_count": 542,
     "metadata": {},
     "output_type": "execute_result"
    },
    {
     "data": {
      "image/png": "[encoded data removed]",
      "text/plain": [
       "<Figure size 432x288 with 1 Axes>"
      ]
     },
     "metadata": {
      "needs_background": "light"
     },
     "output_type": "display_data"
    }
   ],
   "source": [
    "# Plota árvore de decisão\n",
    "tree.plot_tree(clf)"
   ]
  },
  {
   "attachments": {},
   "cell_type": "markdown",
   "metadata": {},
   "source": [
    "Para entender a eficiência deste segundo modelo, validamos sua performance da mesma maneira como foi feito na regressão múltipla. "
   ]
  },
  {
   "attachments": {},
   "cell_type": "markdown",
   "metadata": {},
   "source": [
    "# D2. Processo e Estatísticas de Validação do Random Forest"
   ]
  },
  {
   "attachments": {},
   "cell_type": "markdown",
   "metadata": {},
   "source": [
    "Para realizar a validação cruzada, repetimos o comando cross_val_score() do modelo anterior:"
   ]
  },
  {
   "cell_type": "code",
   "execution_count": 543,
   "metadata": {},
   "outputs": [],
   "source": [
    "regressor = DecisionTreeRegressor(random_state=0)\n",
    "\n",
    "cross_vals = cross_val_score(regressor, X_train, y_train, cv=4)"
   ]
  },
  {
   "cell_type": "code",
   "execution_count": 544,
   "metadata": {},
   "outputs": [
    {
     "name": "stdout",
     "output_type": "stream",
     "text": [
      "Performances nos quatro testes feitos pela validação cruzada da regressão Random Forest Tree: [-33.41713442 -39.55704267  -1.21207642  -0.21062023]\n"
     ]
    }
   ],
   "source": [
    "print(f'Performances nos quatro testes feitos pela validação cruzada da regressão Random Forest Tree: {cross_vals}')"
   ]
  },
  {
   "attachments": {},
   "cell_type": "markdown",
   "metadata": {},
   "source": [
    "Desta vez, já percebemos uma grande melhora em relação ao modelo 1. Apesar de também ser um modelo ruim pelas mesmas razões apontadas previamente, a pior performance nessa ocasião foi de -39.5 ao invés de -234. Logo, também é certeiro afirmar que a performance em média será bastante melhor agora antes mesmo de descobrí-la."
   ]
  },
  {
   "cell_type": "code",
   "execution_count": 545,
   "metadata": {},
   "outputs": [
    {
     "name": "stdout",
     "output_type": "stream",
     "text": [
      "Média de performance na regressão linear: -18.599218435809124\n",
      "Desvio padrão das 4 performances: 18.02258501053417\n"
     ]
    }
   ],
   "source": [
    "print(f'Média de performance na regressão linear: {cross_vals.mean()}')\n",
    "\n",
    "print(f'Desvio padrão das 4 performances: {cross_vals.std()}')"
   ]
  },
  {
   "attachments": {},
   "cell_type": "markdown",
   "metadata": {},
   "source": [
    "Por fim, usamos o comando r2_score() para fazer a segunda avaliação do desempenho do modelo. Vale ressaltar que o R2 pode variar de valores desde 0 até 1 (sendo 0 um modelo ruim e 1 o modelo ideal). Modelos com R2 abaixo de zero estão, conforme já explicado, em uma categoria ainda pior.  "
   ]
  },
  {
   "cell_type": "code",
   "execution_count": 553,
   "metadata": {},
   "outputs": [
    {
     "data": {
      "text/plain": [
       "-4.683360081571255"
      ]
     },
     "execution_count": 553,
     "metadata": {},
     "output_type": "execute_result"
    }
   ],
   "source": [
    "from sklearn.metrics import r2_score\n",
    "\n",
    "r2_tree = r2_score(y_test, y_predict)\n",
    "r2_tree"
   ]
  },
  {
   "attachments": {},
   "cell_type": "markdown",
   "metadata": {},
   "source": [
    "# E. Conclusão "
   ]
  },
  {
   "attachments": {},
   "cell_type": "markdown",
   "metadata": {},
   "source": [
    "Após análises do modelo, foi observado que o modelo é **pouco eficiente nas duas regressões feitas**, com valores de **R-squared 0.253 e -0.053**. Com isso, podemos traçar algumas conclusões principais."
   ]
  },
  {
   "attachments": {},
   "cell_type": "markdown",
   "metadata": {},
   "source": [
    "Para uma análise precisa dos dados de segurança do estado de São Paulo, precisaríamos de uma base de dados bem maior. Por exemplo, informações de cada cidade do estado e traçar conclusões com base nisso. Pensando dessa forma, é possível enquadrar tanto a regressão múltipla quanto a regressão random forest feitas como modelos em **underfitting**, isto é, modelos que não possuem as informações mínimas para fazer uma previsão coerente."
   ]
  },
  {
   "attachments": {},
   "cell_type": "markdown",
   "metadata": {},
   "source": [
    "Porém, mesmo com uma base de dados bastante expandida, ainda assim teríamos um outro grande problema: o que realmente influenciaria no comportamento da eficiência policial em um certo ano."
   ]
  },
  {
   "attachments": {},
   "cell_type": "markdown",
   "metadata": {},
   "source": [
    "Se fosse utilizada apenas informações como área, população, IDH e PIB, ainda faltariam dados. Dados esses tão específicos que apenas uma medição precisa no local poderia surtir algum resultado. Por exemplo, saber em quais **regiões de cada cidade** que os crimes estavam sendo relatados, quais **DPs estavam com maior número de boletins de ocorrência**, entre outros."
   ]
  },
  {
   "attachments": {},
   "cell_type": "markdown",
   "metadata": {},
   "source": [
    "Além disso, temos também **eventos pontuais do mundo real**. Por exemplo, em 2022, a mudança de local da Cracolândia, cercos em pequenas cidades, entre outros. Esses dados pontuais afetariam cada vez mais a nossa análise dos eventos e dos dados. Em análises preliminares, por exemplos, foram obtidas eficiências que ultrapassavam 100%, o que mostra não apenas possíveis falhas no próprio modelo e na execução, mas também na apresentação dos dados."
   ]
  },
  {
   "attachments": {},
   "cell_type": "markdown",
   "metadata": {},
   "source": [
    "Com isso, concluímos que, mesmo com uma falta geral de dados e de informações específicas de cada local, conseguimos elaborar um modelo que **faz sentido** e que **pode ser iterado com cada vez mais dados** para uma maior precisão."
   ]
  },
  {
   "attachments": {},
   "cell_type": "markdown",
   "metadata": {},
   "source": [
    "# F. Referências Bibliográficas "
   ]
  },
  {
   "attachments": {},
   "cell_type": "markdown",
   "metadata": {},
   "source": [
    "Dados de segurança de cada região do estado de São Paulo:\n",
    "\n",
    "http://www.ssp.sp.gov.br/Estatistica/Pesquisa.aspx\n",
    "\n",
    "Jupyter Notebooks disponibilizados em aula e utilizados para o projeto:\n",
    "\n",
    "Jupyter Notebook Aula 26 \n",
    "Jupyter Notebook Aula 27\n",
    "\n",
    "Dados de área, população, PIB per capita e IDH:\n",
    "\n",
    "https://www.ibge.gov.br\n",
    "https://pt.wikipedia.org/wiki/Região_Metropolitana_de_São_Paulo\n",
    "\n",
    "Relatório de um exemplo de projeto semelhante:\n",
    "\n",
    "https://ensinandomaquinasblog.wordpress.com/2017/12/15/modelos-preditivos-de-notas-de-redacao-do-enem-2015/\n",
    "\n",
    "Documentação utilizada para aprender sobre o Random Forest Classifier:\n",
    "\n",
    "https://scikit-learn.org/stable/modules/generated/sklearn.ensemble.RandomForestClassifier.html"
   ]
  },
  {
   "attachments": {},
   "cell_type": "markdown",
   "metadata": {},
   "source": []
  }
 ],
 "metadata": {
  "kernelspec": {
   "display_name": "Python 3 (ipykernel)",
   "language": "python",
   "name": "python3"
  },
  "language_info": {
   "codemirror_mode": {
    "name": "ipython",
    "version": 3
   },
   "file_extension": ".py",
   "mimetype": "text/x-python",
   "name": "python",
   "nbconvert_exporter": "python",
   "pygments_lexer": "ipython3",
   "version": "3.9.12"
  }
 },
 "nbformat": 4,
 "nbformat_minor": 2
}
